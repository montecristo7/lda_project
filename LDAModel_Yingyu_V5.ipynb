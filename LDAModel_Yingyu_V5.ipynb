{
 "cells": [
  {
   "cell_type": "code",
   "execution_count": 99,
   "id": "monthly-passport",
   "metadata": {},
   "outputs": [
    {
     "name": "stderr",
     "output_type": "stream",
     "text": [
      "[nltk_data] Downloading package reuters to /home/lyann/nltk_data...\n",
      "[nltk_data]   Package reuters is already up-to-date!\n"
     ]
    }
   ],
   "source": [
    "import pandas as pd\n",
    "import numpy as np\n",
    "import re\n",
    "from scipy.special import psi  # gamma function utils\n",
    "from pprint import pprint\n",
    "import gensim.corpora as corpora\n",
    "from gensim.corpora import Dictionary\n",
    "import nltk\n",
    "from nltk.corpus import reuters\n",
    "nltk.download('reuters')\n",
    "import matplotlib.pyplot as plt\n",
    "%matplotlib inline\n",
    "plt.style.use('ggplot')"
   ]
  },
  {
   "cell_type": "code",
   "execution_count": 69,
   "id": "041b972a-627a-4956-b8ec-3f04453a02fe",
   "metadata": {},
   "outputs": [],
   "source": [
    "stop_words = [\"would\", \"could\", \"said\", \"u\", \"us\", \"also\", \"may\", \"i\", \"me\", \"my\", \"myself\", \"we\", \"our\", \"ours\", \"ourselves\", \"you\", \"your\", \"yours\", \"yourself\", \"yourselves\", \"he\", \"him\", \"his\", \"himself\", \"she\", \"her\", \"hers\", \"herself\", \"it\", \"its\", \"itself\", \"they\", \"them\", \"their\", \"theirs\", \"themselves\", \"what\", \"which\", \"who\", \"whom\", \"this\", \"that\", \"these\", \"those\", \"am\", \"is\", \"are\", \"was\", \"were\", \"be\", \"been\", \"being\", \"have\", \"has\", \"had\", \"having\", \"do\", \"does\", \"did\", \"doing\", \"a\", \"an\", \"the\", \"and\", \"but\", \"if\", \"or\", \"because\", \"as\", \"until\", \"while\", \"of\", \"at\", \"by\", \"for\", \"with\", \"about\", \"against\", \"between\", \"into\", \"through\", \"during\", \"before\", \"after\", \"above\", \"below\", \"to\", \"from\", \"up\", \"down\", \"in\", \"out\", \"on\", \"off\", \"over\", \"under\", \"again\", \"further\", \"then\", \"once\", \"here\", \"there\", \"when\", \"where\", \"why\", \"how\", \"all\", \"any\", \"both\", \"each\", \"few\", \"more\", \"most\", \"other\", \"some\", \"such\", \"no\", \"nor\", \"not\", \"only\", \"own\", \"same\", \"so\", \"than\", \"too\", \"very\", \"s\", \"t\", \"can\", \"will\", \"just\", \"don\", \"should\", \"now\"]"
   ]
  },
  {
   "cell_type": "code",
   "execution_count": 70,
   "id": "mexican-trauma",
   "metadata": {},
   "outputs": [],
   "source": [
    "## Utils and Helper Class\n",
    "\n",
    "def tf(docs):\n",
    "    \"\"\"\n",
    "    This function is used to calculate the document-term matrix and id2word mapping\n",
    "    \"\"\"\n",
    "    # Clean up the text\n",
    "    docsc_clean = {}\n",
    "    total_term = []\n",
    "    for key, val in enumerate(docs):\n",
    "        val_clean = re.findall(r'[a-z]+', val.lower())\n",
    "        val_clean = [i for i in val_clean if i not in stop_words]\n",
    "        docsc_clean[f'd{key}'] = val_clean\n",
    "        total_term += val_clean\n",
    "\n",
    "    total_term_unique = sorted(set(total_term))\n",
    "    id2word = {idx: word for  idx, word in enumerate(total_term_unique)}\n",
    "\n",
    "    # Count the number of occurrences of term i in document j\n",
    "    for key, val in docsc_clean.items():\n",
    "        word_dir = dict.fromkeys(total_term_unique, 0)\n",
    "        for word in val:\n",
    "            word_dir[word] += 1\n",
    "        docsc_clean[key] = word_dir\n",
    "\n",
    "    tf_df = pd.DataFrame.from_dict(docsc_clean, orient='index')\n",
    "\n",
    "    return tf_df, id2word\n",
    "\n",
    "def dirichlet_expectation(sstats):\n",
    "    if len(sstats.shape) == 1:\n",
    "        return psi(sstats) - psi(np.sum(sstats))\n",
    "    else:\n",
    "        return psi(sstats) - psi(np.sum(sstats, 1))[:, np.newaxis]\n",
    "    \n",
    "    \n",
    "def chunks(lst, n):\n",
    "    \"\"\"Yield successive n-sized chunks from lst.\"\"\"\n",
    "    for i in range(0, len(lst), n):\n",
    "        yield lst[i:i + n]\n",
    "\n",
    "class LdaState:\n",
    "    def __init__(self, eta, shape, dtype=np.float32):\n",
    "        \"\"\"\n",
    "        Parameters\n",
    "        ----------\n",
    "        eta : numpy.ndarray\n",
    "            The prior probabilities assigned to each term.\n",
    "        shape : tuple of (int, int)\n",
    "            Shape of the sufficient statistics: (number of topics to be found, number of terms in the vocabulary).\n",
    "        dtype : type\n",
    "            Overrides the numpy array default types.\n",
    "\n",
    "        \"\"\"\n",
    "        self.eta = eta.astype(dtype, copy=False)\n",
    "        self.sstats = np.zeros(shape, dtype=dtype)\n",
    "        self.numdocs = 0\n",
    "        self.dtype = dtype\n",
    "\n",
    "    def get_lambda(self):\n",
    "        \"\"\"Get the parameters of the posterior over the topics, also referred to as \"the topics\".\n",
    "\n",
    "        Returns\n",
    "        -------\n",
    "        numpy.ndarray\n",
    "            Parameters of the posterior probability over topics.\n",
    "\n",
    "        \"\"\"\n",
    "        return self.eta + self.sstats\n",
    "\n",
    "    def get_Elogbeta(self):\n",
    "        \"\"\"Get the log (posterior) probabilities for each topic.\n",
    "\n",
    "        Returns\n",
    "        -------\n",
    "        numpy.ndarray\n",
    "            Posterior probabilities for each topic.\n",
    "        \"\"\"\n",
    "        return dirichlet_expectation(self.get_lambda())\n",
    "\n",
    "    def blend(self, rhot, other, targetsize=None):\n",
    "        \"\"\"Merge the current state with another one using a weighted average for the sufficient statistics.\n",
    "\n",
    "        The number of documents is stretched in both state objects, so that they are of comparable magnitude.\n",
    "        This procedure corresponds to the stochastic gradient update from\n",
    "        `Hoffman et al. :\"Online Learning for Latent Dirichlet Allocation\"\n",
    "        <https://www.di.ens.fr/~fbach/mdhnips2010.pdf>`_, see equations (5) and (9).\n",
    "\n",
    "        Parameters\n",
    "        ----------\n",
    "        rhot : float\n",
    "            Weight of the `other` state in the computed average. A value of 0.0 means that `other`\n",
    "            is completely ignored. A value of 1.0 means `self` is completely ignored.\n",
    "        other : :class:`~gensim.models.ldamodel.LdaState`\n",
    "            The state object with which the current one will be merged.\n",
    "        targetsize : int, optional\n",
    "            The number of documents to stretch both states to.\n",
    "\n",
    "        \"\"\"\n",
    "        assert other is not None\n",
    "        if targetsize is None:\n",
    "            targetsize = self.numdocs\n",
    "\n",
    "        # stretch the current model's expected n*phi counts to target size\n",
    "        if self.numdocs == 0 or targetsize == self.numdocs:\n",
    "            scale = 1.0\n",
    "        else:\n",
    "            scale = 1.0 * targetsize / self.numdocs\n",
    "        self.sstats *= (1.0 - rhot) * scale\n",
    "\n",
    "        # stretch the incoming n*phi counts to target size\n",
    "        if other.numdocs == 0 or targetsize == other.numdocs:\n",
    "            scale = 1.0\n",
    "        else:\n",
    "            scale = 1.0 * targetsize / other.numdocs\n",
    "        self.sstats += rhot * scale * other.sstats\n",
    "        self.numdocs = targetsize"
   ]
  },
  {
   "cell_type": "code",
   "execution_count": 71,
   "id": "adjustable-billy",
   "metadata": {},
   "outputs": [],
   "source": [
    "def my_lda_func(corpus, num_topics, id2word, random_state=10,  passes=1, num_words=10,\n",
    "                iterations=50, gamma_threshold=0.001, dtype=np.float32,  chunksize=100, topics_only=True, verbose=False):\n",
    "    num_terms = len(id2word)\n",
    "\n",
    "    alpha = np.array( [1.0 / num_topics for i in range(num_topics)], dtype=dtype)\n",
    "\n",
    "    eta = np.array( [1.0 / num_topics for i in range(num_terms)], dtype=dtype)\n",
    "\n",
    "    rand  = np.random.RandomState(random_state)\n",
    "\n",
    "    model_states = LdaState(eta, (num_topics, num_terms), dtype=dtype)\n",
    "    model_states.sstats = rand.gamma(100., 1. / 100., (num_topics, num_terms))\n",
    "\n",
    "    expElogbeta = np.exp(dirichlet_expectation(model_states.sstats))\n",
    "\n",
    "\n",
    "    # Update\n",
    "    lencorpus = len(corpus)\n",
    "    chunksize = min(lencorpus, chunksize)\n",
    "    model_states.numdocs += lencorpus\n",
    "    num_updates = 0\n",
    "\n",
    "    for pass_ in range(passes):\n",
    "        all_chunks = chunks(corpus, chunksize)\n",
    "        gamma_by_chunks = []\n",
    "        for chunk_no, chunk in enumerate(all_chunks):\n",
    "            other = LdaState(eta, (num_topics, num_terms), dtype=dtype)\n",
    "            # Do estep\n",
    "            if len(chunk) > 1:\n",
    "                if verbose:\n",
    "                    print(f'performing inference on a chunk of {len(chunk) } documents')\n",
    "            else:\n",
    "                raise\n",
    "\n",
    "            # Initialize the variational distribution q(theta|gamma) for the chunk\n",
    "            gamma = rand.gamma(100., 1. / 100., (len(chunk), num_topics)).astype(dtype, copy=False)\n",
    "            tmpElogtheta = dirichlet_expectation(gamma)\n",
    "            tmpexpElogtheta = np.exp(tmpElogtheta)\n",
    "            sstats = np.zeros_like(expElogbeta, dtype=dtype)\n",
    "            converged = 0\n",
    "\n",
    "            # Now, for each document d update that document's gamma and phi\n",
    "            epsilon = 1e-7\n",
    "\n",
    "            for d, doc in enumerate(chunk):\n",
    "                ids = [idx for idx, _ in doc]\n",
    "                cts = np.fromiter((cnt for _, cnt in doc), dtype=dtype, count=len(doc))\n",
    "                gammad = gamma[d, :]\n",
    "                Elogthetad = tmpElogtheta[d, :]\n",
    "                expElogthetad = tmpexpElogtheta[d, :]\n",
    "                expElogbetad = expElogbeta[:, ids]\n",
    "\n",
    "                # The optimal phi_{dwk} is proportional to expElogthetad_k * expElogbetad_w.\n",
    "                # phinorm is the normalizer.\n",
    "                phinorm = np.dot(expElogthetad, expElogbetad) + epsilon\n",
    "\n",
    "                for _ in range(iterations):\n",
    "                    lastgamma = gammad\n",
    "                    # We represent phi implicitly to save memory and time.\n",
    "                    # Substituting the value of the optimal phi back into\n",
    "                    # the update for gamma gives this update. Cf. Lee&Seung 2001.\n",
    "                    gammad = alpha + expElogthetad * np.dot(cts / phinorm, expElogbetad.T)\n",
    "                    Elogthetad = dirichlet_expectation(gammad)\n",
    "                    expElogthetad = np.exp(Elogthetad)\n",
    "                    phinorm = np.dot(expElogthetad, expElogbetad) + epsilon\n",
    "                    # If gamma hasn't changed much, we're done.\n",
    "                    meanchange = np.mean(np.abs(gammad - lastgamma))\n",
    "                    if meanchange < gamma_threshold:\n",
    "                        converged += 1\n",
    "                        break\n",
    "                gamma[d, :] = gammad\n",
    "                sstats[:, ids] += np.outer(expElogthetad.T, cts / phinorm)\n",
    "                gamma_by_chunks.append(gamma)\n",
    "\n",
    "            if len(chunk) > 1:\n",
    "                if verbose:\n",
    "                    print(f\"{converged}/{len(chunk)} documents converged within {iterations} iterations\")\n",
    "\n",
    "            sstats *= expElogbeta\n",
    "\n",
    "            other.sstats += sstats\n",
    "            other.numdocs += gamma.shape[0]\n",
    "\n",
    "            # Do mstep\n",
    "            if verbose:\n",
    "                print('Update topics')\n",
    "            previous_Elogbeta = model_states.get_Elogbeta()\n",
    "            rho = pow(1 + pass_ + (num_updates / chunksize), -0.5)\n",
    "            model_states.blend(rho, other)\n",
    "\n",
    "            current_Elogbeta = model_states.get_Elogbeta()\n",
    "            #Propagate the states topic probabilities to the inner object's attribute.\n",
    "            expElogbeta = np.exp(current_Elogbeta)\n",
    "\n",
    "            diff = np.mean(np.abs(previous_Elogbeta.ravel() - current_Elogbeta.ravel()))\n",
    "            if verbose:\n",
    "                print(f\"topic diff {diff}\")\n",
    "            num_updates += other.numdocs\n",
    "\n",
    "    shown = []\n",
    "    topic = model_states.get_lambda()\n",
    "\n",
    "    for i in range(num_topics):\n",
    "        topic_ = topic[i]\n",
    "        topic_ = topic_ / topic_.sum()  # normalize to probability distribution\n",
    "        bestn = topic_.argsort()[-num_words:][::-1]\n",
    "\n",
    "        topic_ = [(id2word[id], topic_[id]) for id in bestn]\n",
    "        topic_ = ' + '.join('%.3f*\"%s\"' % (v, k) for k, v in topic_)\n",
    "        shown.append((i, topic_))\n",
    "\n",
    "    if topics_only:\n",
    "        return shown\n",
    "    else:\n",
    "        return shown,gamma_by_chunks"
   ]
  },
  {
   "cell_type": "code",
   "execution_count": null,
   "id": "f377290a-fc8c-4d11-8e5c-3917bc69b4d8",
   "metadata": {},
   "outputs": [],
   "source": []
  },
  {
   "cell_type": "markdown",
   "id": "2e62b9e6-6023-44bf-843b-b330dee7e841",
   "metadata": {},
   "source": [
    "## For Carol: Small test data (d1 to d5)"
   ]
  },
  {
   "cell_type": "code",
   "execution_count": 88,
   "id": "d029104d-d494-4f51-954a-0db39df2bb56",
   "metadata": {},
   "outputs": [],
   "source": [
    "# Sample data for analysis\n",
    "d1 = \"Java is a language for programming that develops a software for several platforms. A compiled code or bytecode on Java application can run on most of the operating systems including Linux, Mac operating system, and Linux. Most of the syntax of Java is derived from the C++ and C languages.\"\n",
    "d2 = \"Python supports multiple programming paradigms and comes up with a large standard library, paradigms included are object-oriented, imperative, functional and procedural.\"\n",
    "d3 = \"Go is typed statically compiled language. It was created by Robert Griesemer, Ken Thompson, and Rob Pike in 2009. This language offers garbage collection, concurrency of CSP-style, memory safety, and structural typing.\"\n",
    "d4 = \"A young girl when she first visited magical Underland, Alice Kingsleigh (Mia Wasikowska) is now a teenager with no memory of the place -- except in her dreams.\"\n",
    "d5 = \"Her life takes a turn for the unexpected when, at a garden party for her fiance and herself, she spots a certain white rabbit and tumbles down a hole after him. Reunited with her friends the Mad Hatter (Johnny Depp), the Cheshire Cat and others, Alice learns it is her destiny to end the Red Queen's (Helena Bonham Carter) reign of terror.\""
   ]
  },
  {
   "cell_type": "code",
   "execution_count": 92,
   "id": "50b38d5b-8967-46cf-8d5d-f37ee1af4be9",
   "metadata": {},
   "outputs": [
    {
     "name": "stdout",
     "output_type": "stream",
     "text": [
      "performing inference on a chunk of 5 documents\n",
      "0/5 documents converged within 50 iterations\n",
      "Update topics\n",
      "topic diff 0.5658777670609699\n",
      "performing inference on a chunk of 5 documents\n",
      "4/5 documents converged within 50 iterations\n",
      "Update topics\n",
      "topic diff 0.20531260303613888\n",
      "performing inference on a chunk of 5 documents\n",
      "5/5 documents converged within 50 iterations\n",
      "Update topics\n",
      "topic diff 0.09956979691972542\n",
      "performing inference on a chunk of 5 documents\n",
      "5/5 documents converged within 50 iterations\n",
      "Update topics\n",
      "topic diff 0.051361470709214804\n",
      "performing inference on a chunk of 5 documents\n",
      "5/5 documents converged within 50 iterations\n",
      "Update topics\n",
      "topic diff 0.02989384244714881\n",
      "performing inference on a chunk of 5 documents\n",
      "5/5 documents converged within 50 iterations\n",
      "Update topics\n",
      "topic diff 0.018735256899534262\n",
      "performing inference on a chunk of 5 documents\n",
      "5/5 documents converged within 50 iterations\n",
      "Update topics\n",
      "topic diff 0.012360083784749917\n",
      "performing inference on a chunk of 5 documents\n",
      "5/5 documents converged within 50 iterations\n",
      "Update topics\n",
      "topic diff 0.008473770829223454\n",
      "performing inference on a chunk of 5 documents\n",
      "5/5 documents converged within 50 iterations\n",
      "Update topics\n",
      "topic diff 0.005987616312834623\n",
      "performing inference on a chunk of 5 documents\n",
      "5/5 documents converged within 50 iterations\n",
      "Update topics\n",
      "topic diff 0.0043359598397448695\n"
     ]
    }
   ],
   "source": [
    "# Using slow version tf_df\n",
    "tf_df, id2word = tf([d1, d2, d3, d4, d5])\n",
    "\n",
    "lil = []\n",
    "for row in tf_df.values:\n",
    "    lil_sub = []\n",
    "    for idx, item in enumerate(row):\n",
    "        if item:\n",
    "            lil_sub.append((idx, item))\n",
    "    lil.append(lil_sub)\n",
    "    \n",
    "shown, gamma_by_chunks = my_lda_func(corpus=lil, num_topics=2, id2word=id2word, topics_only=False, num_words=10, verbose=True, passes=10)"
   ]
  },
  {
   "cell_type": "code",
   "execution_count": 93,
   "id": "957295ba-a6e7-480f-86fe-9003ee733263",
   "metadata": {},
   "outputs": [
    {
     "data": {
      "text/plain": [
       "[(0,\n",
       "  '0.023*\"language\" + 0.014*\"alice\" + 0.014*\"memory\" + 0.014*\"compiled\" + 0.014*\"concurrency\" + 0.014*\"go\" + 0.014*\"safety\" + 0.014*\"griesemer\" + 0.014*\"collection\" + 0.014*\"csp\"'),\n",
       " (1,\n",
       "  '0.032*\"java\" + 0.023*\"operating\" + 0.023*\"linux\" + 0.023*\"paradigms\" + 0.023*\"c\" + 0.023*\"programming\" + 0.014*\"language\" + 0.014*\"compiled\" + 0.014*\"systems\" + 0.014*\"mac\"')]"
      ]
     },
     "execution_count": 93,
     "metadata": {},
     "output_type": "execute_result"
    }
   ],
   "source": [
    "shown"
   ]
  },
  {
   "cell_type": "code",
   "execution_count": 94,
   "id": "a253e2a5-4503-475f-bdc6-cce813af9a10",
   "metadata": {},
   "outputs": [
    {
     "data": {
      "text/plain": [
       "[array([[ 0.5350382, 27.464731 ],\n",
       "        [ 0.5197944, 16.48005  ],\n",
       "        [23.458965 ,  0.5408032],\n",
       "        [ 0.548567 , 15.451267 ],\n",
       "        [33.47377  ,  0.5258844]], dtype=float32),\n",
       " array([[ 0.5350382, 27.464731 ],\n",
       "        [ 0.5197944, 16.48005  ],\n",
       "        [23.458965 ,  0.5408032],\n",
       "        [ 0.548567 , 15.451267 ],\n",
       "        [33.47377  ,  0.5258844]], dtype=float32),\n",
       " array([[ 0.5350382, 27.464731 ],\n",
       "        [ 0.5197944, 16.48005  ],\n",
       "        [23.458965 ,  0.5408032],\n",
       "        [ 0.548567 , 15.451267 ],\n",
       "        [33.47377  ,  0.5258844]], dtype=float32),\n",
       " array([[ 0.5350382, 27.464731 ],\n",
       "        [ 0.5197944, 16.48005  ],\n",
       "        [23.458965 ,  0.5408032],\n",
       "        [ 0.548567 , 15.451267 ],\n",
       "        [33.47377  ,  0.5258844]], dtype=float32),\n",
       " array([[ 0.5350382, 27.464731 ],\n",
       "        [ 0.5197944, 16.48005  ],\n",
       "        [23.458965 ,  0.5408032],\n",
       "        [ 0.548567 , 15.451267 ],\n",
       "        [33.47377  ,  0.5258844]], dtype=float32)]"
      ]
     },
     "execution_count": 94,
     "metadata": {},
     "output_type": "execute_result"
    }
   ],
   "source": [
    "gamma_by_chunks"
   ]
  },
  {
   "cell_type": "code",
   "execution_count": null,
   "id": "2e4b0ae6-62aa-460b-ba16-bf7d7e4c6dae",
   "metadata": {},
   "outputs": [],
   "source": []
  },
  {
   "cell_type": "markdown",
   "id": "c6d7f1e5-d93c-4616-90db-a7c49b616734",
   "metadata": {},
   "source": [
    "## Simulated Data (Sleep & Vaccine Policy)"
   ]
  },
  {
   "cell_type": "code",
   "execution_count": 163,
   "id": "fa7c7a45-6549-4119-823f-f6e733ac58fa",
   "metadata": {},
   "outputs": [],
   "source": [
    "sleep = pd.read_csv('sleep_diet_exercise.csv', header=None)"
   ]
  },
  {
   "cell_type": "code",
   "execution_count": 164,
   "id": "c1627ef9-4b72-4159-816b-09eec71ceb05",
   "metadata": {},
   "outputs": [
    {
     "data": {
      "text/plain": [
       "30"
      ]
     },
     "execution_count": 164,
     "metadata": {},
     "output_type": "execute_result"
    }
   ],
   "source": [
    "docs = [i[0] for i in sleep.values]\n",
    "len(docs)"
   ]
  },
  {
   "cell_type": "code",
   "execution_count": 185,
   "id": "f20e1f76-ad82-4b9d-88b1-2c567e1d45d7",
   "metadata": {},
   "outputs": [],
   "source": [
    "tf_df, id2word = tf(docs)\n",
    "\n",
    "lil = []\n",
    "for row in tf_df.values:\n",
    "    lil_sub = []\n",
    "    for idx, item in enumerate(row):\n",
    "        if item:\n",
    "            lil_sub.append((idx, item))\n",
    "    lil.append(lil_sub)\n",
    "    \n",
    "simu_result = my_lda_func(corpus=lil, num_topics=2, id2word=id2word, num_words=10, chunksize=20, passes=10, verbose=False)"
   ]
  },
  {
   "cell_type": "code",
   "execution_count": 222,
   "id": "8da5df08-9ba6-4e76-aef5-6f33f7e6f27a",
   "metadata": {},
   "outputs": [
    {
     "data": {
      "text/plain": [
       "[(0,\n",
       "  '0.060*\"sleep\" + 0.022*\"exercise\" + 0.009*\"activity\" + 0.008*\"studies\" + 0.008*\"adults\" + 0.008*\"health\" + 0.007*\"physical\" + 0.007*\"poor\" + 0.007*\"quality\" + 0.006*\"insomnia\"'),\n",
       " (1,\n",
       "  '0.012*\"biden\" + 0.007*\"president\" + 0.007*\"pandemic\" + 0.006*\"tax\" + 0.005*\"administration\" + 0.005*\"vaccine\" + 0.005*\"vaccines\" + 0.005*\"covid\" + 0.004*\"americans\" + 0.004*\"first\"')]"
      ]
     },
     "execution_count": 222,
     "metadata": {},
     "output_type": "execute_result"
    }
   ],
   "source": [
    "simu_result"
   ]
  },
  {
   "cell_type": "code",
   "execution_count": 204,
   "id": "544e23d6-343d-49bb-84e5-d57be1005183",
   "metadata": {},
   "outputs": [],
   "source": [
    "def parse_result(result):\n",
    "    \"\"\"\n",
    "    This function is used to reorganize the result of my_lda_func.\n",
    "    \"\"\"\n",
    "    result_dic = {}\n",
    "    for topic_num, dist in result:\n",
    "        unpack = []\n",
    "        for obj in dist.split('+'):\n",
    "            prob, word = obj.split('*')\n",
    "            unpack.append((float(prob), word.strip().strip('\"')))\n",
    "        prob, word = zip(*unpack)\n",
    "        result_dic[topic_num] = [prob, word]\n",
    "    return result_dic"
   ]
  },
  {
   "cell_type": "code",
   "execution_count": 223,
   "id": "3dfaf4e4-7e59-4dfc-8fb9-65d46889be84",
   "metadata": {},
   "outputs": [
    {
     "data": {
      "text/plain": [
       "{0: [(0.06, 0.022, 0.009, 0.008, 0.008, 0.008, 0.007, 0.007, 0.007, 0.006),\n",
       "  ('sleep',\n",
       "   'exercise',\n",
       "   'activity',\n",
       "   'studies',\n",
       "   'adults',\n",
       "   'health',\n",
       "   'physical',\n",
       "   'poor',\n",
       "   'quality',\n",
       "   'insomnia')],\n",
       " 1: [(0.012, 0.007, 0.007, 0.006, 0.005, 0.005, 0.005, 0.005, 0.004, 0.004),\n",
       "  ('biden',\n",
       "   'president',\n",
       "   'pandemic',\n",
       "   'tax',\n",
       "   'administration',\n",
       "   'vaccine',\n",
       "   'vaccines',\n",
       "   'covid',\n",
       "   'americans',\n",
       "   'first')]}"
      ]
     },
     "execution_count": 223,
     "metadata": {},
     "output_type": "execute_result"
    }
   ],
   "source": [
    "# Parsed result for simulated data\n",
    "simulated_data_result = parse_result(simu_result)\n",
    "simulated_data_result"
   ]
  },
  {
   "cell_type": "code",
   "execution_count": 226,
   "id": "fc53f296-c385-42f4-be0d-f2e628368bb0",
   "metadata": {},
   "outputs": [
    {
     "data": {
      "image/png": "[encoded data removed]",
      "text/plain": [
       "<Figure size 864x864 with 2 Axes>"
      ]
     },
     "metadata": {},
     "output_type": "display_data"
    }
   ],
   "source": [
    "# Bar plots for simulated data\n",
    "fig, axs = plt.subplots(2, 1, figsize=(12, 12))\n",
    "cmap = ['lightsteelblue', 'pink', 'darkgrey', 'khaki', 'lightsalmon', 'darkseagreen']\n",
    "\n",
    "# make a little extra space between the subplots\n",
    "fig.subplots_adjust(hspace=0.3)\n",
    "simu_dic = parse_result(simu_result)\n",
    "\n",
    "for idx, ax in enumerate(axs):\n",
    "    probability, words = simu_dic[idx]\n",
    "\n",
    "    ax.bar(words, probability, color=cmap[idx])\n",
    "    ax.set_xlabel(\"Word\")\n",
    "    ax.set_ylabel(\"Probability\")\n",
    "    ax.set_title(f\"Topic {idx+1}\")\n",
    "\n",
    "# plt.savefig('figures/simulated_data_result.jpg')\n",
    "plt.show()"
   ]
  },
  {
   "cell_type": "code",
   "execution_count": null,
   "id": "13fcfb7f-65a7-4a26-a4e6-19acd7acf758",
   "metadata": {},
   "outputs": [],
   "source": []
  },
  {
   "cell_type": "markdown",
   "id": "d54c0a5e-eedf-41a7-8778-58f7a38f9b85",
   "metadata": {},
   "source": [
    "## Real-world Data 1: Reuters"
   ]
  },
  {
   "cell_type": "code",
   "execution_count": 227,
   "id": "f1e15418-227d-4b64-93b4-3ec46e711a09",
   "metadata": {},
   "outputs": [],
   "source": [
    "np.random.seed(1)\n",
    "ntotal=1000\n",
    "documents = reuters.fileids()\n",
    "documents=np.random.choice(documents,ntotal)\n",
    "docs=[reuters.raw(d) for d in documents]"
   ]
  },
  {
   "cell_type": "code",
   "execution_count": 228,
   "id": "c691b998-6b1b-4815-8fc9-60fc09188616",
   "metadata": {},
   "outputs": [
    {
     "data": {
      "text/plain": [
       "1000"
      ]
     },
     "execution_count": 228,
     "metadata": {},
     "output_type": "execute_result"
    }
   ],
   "source": [
    "len(docs)"
   ]
  },
  {
   "cell_type": "code",
   "execution_count": 229,
   "id": "9a8da19c-7f50-4c46-aab1-12c148ed890e",
   "metadata": {},
   "outputs": [],
   "source": [
    "tf_df, id2word = tf(docs)\n",
    "\n",
    "lil = []\n",
    "for row in tf_df.values:\n",
    "    lil_sub = []\n",
    "    for idx, item in enumerate(row):\n",
    "        if item:\n",
    "            lil_sub.append((idx, item))\n",
    "    lil.append(lil_sub)\n",
    "    \n",
    "real_result_1 = my_lda_func(corpus=lil, num_topics=4, id2word=id2word, num_words=10, chunksize=20, passes=10)"
   ]
  },
  {
   "cell_type": "code",
   "execution_count": 230,
   "id": "eb9663b6-27aa-4cd7-b97d-7efd5bbbdf20",
   "metadata": {},
   "outputs": [
    {
     "data": {
      "text/plain": [
       "{0: [(0.011, 0.008, 0.007, 0.006, 0.006, 0.005, 0.005, 0.005, 0.004, 0.004),\n",
       "  ('tonnes',\n",
       "   'japan',\n",
       "   'trade',\n",
       "   'mln',\n",
       "   'oil',\n",
       "   'ec',\n",
       "   'officials',\n",
       "   'production',\n",
       "   'told',\n",
       "   'countries')],\n",
       " 1: [(0.025, 0.016, 0.015, 0.011, 0.011, 0.011, 0.011, 0.009, 0.009, 0.009),\n",
       "  ('lt',\n",
       "   'dlrs',\n",
       "   'company',\n",
       "   'corp',\n",
       "   'inc',\n",
       "   'shares',\n",
       "   'stock',\n",
       "   'mln',\n",
       "   'pct',\n",
       "   'offer')],\n",
       " 2: [(0.08, 0.072, 0.047, 0.04, 0.037, 0.028, 0.024, 0.02, 0.018, 0.018),\n",
       "  ('vs', 'mln', 'cts', 'net', 'dlrs', 'loss', 'shr', 'lt', 'profit', 'year')],\n",
       " 3: [(0.026, 0.018, 0.016, 0.011, 0.009, 0.009, 0.009, 0.008, 0.007, 0.007),\n",
       "  ('pct',\n",
       "   'year',\n",
       "   'billion',\n",
       "   'bank',\n",
       "   'mln',\n",
       "   'last',\n",
       "   'dlrs',\n",
       "   'rate',\n",
       "   'february',\n",
       "   'rates')]}"
      ]
     },
     "execution_count": 230,
     "metadata": {},
     "output_type": "execute_result"
    }
   ],
   "source": [
    "# Parsed result for real data 1 from Reuters\n",
    "reuters_data_result = parse_result(real_result_1)\n",
    "reuters_data_result"
   ]
  },
  {
   "cell_type": "code",
   "execution_count": 262,
   "id": "21fb3091-2ce0-46b0-a625-8745971b2364",
   "metadata": {},
   "outputs": [
    {
     "data": {
      "image/png": "[encoded data removed]",
      "text/plain": [
       "<Figure size 1224x504 with 4 Axes>"
      ]
     },
     "metadata": {},
     "output_type": "display_data"
    }
   ],
   "source": [
    "# Bar plots for simulated data\n",
    "fig, axs = plt.subplots(2, 2, figsize=(17, 7))\n",
    "cmap = ['lightsteelblue', 'pink', 'darkgrey', 'khaki', 'lightsalmon', 'darkseagreen']\n",
    "\n",
    "# make a little extra space between the subplots\n",
    "simu_dic = parse_result(real_result_1)\n",
    "\n",
    "for idx, ax in enumerate(axs.ravel()):\n",
    "    probability, words = simu_dic[idx]\n",
    "\n",
    "    ax.bar(words, probability, color=cmap[idx])\n",
    "    ax.set_xlabel(\"Word\")\n",
    "    ax.set_ylabel(\"Probability\")\n",
    "    ax.set_title(f\"Topic {idx+1}\")\n",
    "\n",
    "plt.tight_layout()\n",
    "plt.savefig('figures/reuters_data_result.jpg')\n",
    "plt.show()"
   ]
  },
  {
   "cell_type": "markdown",
   "id": "31adfbcf-8972-4e85-8f49-de6c9cc41696",
   "metadata": {},
   "source": [
    "## Real-world Data 2: Tweet"
   ]
  },
  {
   "cell_type": "code",
   "execution_count": 238,
   "id": "06aee7de-850b-4d6c-b37c-bb92c427e15c",
   "metadata": {},
   "outputs": [
    {
     "data": {
      "text/plain": [
       "6000"
      ]
     },
     "execution_count": 238,
     "metadata": {},
     "output_type": "execute_result"
    }
   ],
   "source": [
    "# Real world sample data\n",
    "raw_tweets = pd.read_csv('clean_tweets.csv')\n",
    "\n",
    "tweets_list = raw_tweets.Tweets.values.tolist()\n",
    "\n",
    "# Turn the list of string into a list of tokens\n",
    "clean_tweets = [t.split(',') for t in tweets_list]\n",
    "\n",
    "len(clean_tweets)"
   ]
  },
  {
   "cell_type": "code",
   "execution_count": 239,
   "id": "483beacd-5ef9-4ec2-a5be-f26f655e6f85",
   "metadata": {},
   "outputs": [],
   "source": [
    "id2word = Dictionary(clean_tweets)\n",
    "# Term Document Frequency\n",
    "corpus = [id2word.doc2bow(text) for text in clean_tweets]"
   ]
  },
  {
   "cell_type": "code",
   "execution_count": 240,
   "id": "37670e38-a703-4017-9cc9-ea6ec036f8f7",
   "metadata": {},
   "outputs": [],
   "source": [
    "real_result_2 = my_lda_func(corpus=corpus, num_topics=6, id2word=id2word, num_words=10, chunksize=100, passes=10)"
   ]
  },
  {
   "cell_type": "code",
   "execution_count": 246,
   "id": "86bb8983-73d5-4201-adb4-e9759e31cf7b",
   "metadata": {},
   "outputs": [
    {
     "data": {
      "text/plain": [
       "{0: [(0.067, 0.049, 0.019, 0.012, 0.012, 0.012, 0.011, 0.01, 0.007, 0.007),\n",
       "  ('late',\n",
       "   'thank',\n",
       "   'app',\n",
       "   'daily',\n",
       "   'wind',\n",
       "   'mph',\n",
       "   'c',\n",
       "   'cloud',\n",
       "   'humidity',\n",
       "   'mb')],\n",
       " 1: [(0.018, 0.011, 0.01, 0.008, 0.006, 0.006, 0.006, 0.005, 0.005, 0.005),\n",
       "  ('trump',\n",
       "   'people',\n",
       "   'say',\n",
       "   'think',\n",
       "   'know',\n",
       "   'right',\n",
       "   'need',\n",
       "   'vote',\n",
       "   'go',\n",
       "   'woman')],\n",
       " 2: [(0.013, 0.011, 0.01, 0.01, 0.01, 0.009, 0.008, 0.008, 0.008, 0.007),\n",
       "  ('good',\n",
       "   'go',\n",
       "   'love',\n",
       "   'day',\n",
       "   'thank',\n",
       "   'time',\n",
       "   'think',\n",
       "   'look',\n",
       "   'year',\n",
       "   'know')],\n",
       " 3: [(0.011, 0.011, 0.009, 0.007, 0.006, 0.005, 0.005, 0.004, 0.004, 0.004),\n",
       "  ('new',\n",
       "   'great',\n",
       "   'thank',\n",
       "   'how',\n",
       "   'work',\n",
       "   'good',\n",
       "   'year',\n",
       "   'help',\n",
       "   'need',\n",
       "   'change')],\n",
       " 4: [(0.097, 0.079, 0.069, 0.064, 0.039, 0.034, 0.025, 0.022, 0.017, 0.014),\n",
       "  ('video',\n",
       "   'like',\n",
       "   'follow',\n",
       "   'check',\n",
       "   'automatically',\n",
       "   'people',\n",
       "   'unfollowed',\n",
       "   'person',\n",
       "   'follower',\n",
       "   'new')],\n",
       " 5: [(0.137, 0.044, 0.018, 0.013, 0.01, 0.01, 0.006, 0.006, 0.006, 0.005),\n",
       "  ('more',\n",
       "   'today',\n",
       "   'cancer',\n",
       "   'arie',\n",
       "   'pisce',\n",
       "   'aquarius',\n",
       "   'capricorn',\n",
       "   'feel',\n",
       "   'day',\n",
       "   'gemini')]}"
      ]
     },
     "execution_count": 246,
     "metadata": {},
     "output_type": "execute_result"
    }
   ],
   "source": [
    "# Parsed result for real data 2 from Tweet\n",
    "tweet_data_result = parse_result(real_result_2)\n",
    "tweet_data_result"
   ]
  },
  {
   "cell_type": "code",
   "execution_count": 258,
   "id": "574da618-2cbe-4865-9ea4-ecf137a94806",
   "metadata": {},
   "outputs": [
    {
     "data": {
      "image/png": "[encoded data removed]",
      "text/plain": [
       "<Figure size 1224x432 with 6 Axes>"
      ]
     },
     "metadata": {},
     "output_type": "display_data"
    }
   ],
   "source": [
    "# Bar plots for simulated data\n",
    "fig, axs = plt.subplots(3, 2, figsize=(17, 6))\n",
    "cmap = ['lightsteelblue', 'pink', 'darkgrey', 'khaki', 'lightsalmon', 'darkseagreen']\n",
    "\n",
    "# make a little extra space between the subplots\n",
    "simu_dic = parse_result(real_result_2)\n",
    "\n",
    "for idx, ax in enumerate(axs.ravel()):\n",
    "    probability, words = simu_dic[idx]\n",
    "\n",
    "    ax.bar(words, probability, color=cmap[idx])\n",
    "    ax.set_xlabel(\"Word\")\n",
    "    ax.set_ylabel(\"Probability\")\n",
    "    ax.set_title(f\"Topic {idx+1}\")\n",
    "\n",
    "plt.tight_layout()\n",
    "# plt.savefig('figures/tweet_data_result.jpg')\n",
    "plt.show()"
   ]
  },
  {
   "cell_type": "code",
   "execution_count": null,
   "id": "abfea8b7-1b0b-40f3-ac72-ca2b47d1b3bc",
   "metadata": {},
   "outputs": [],
   "source": []
  }
 ],
 "metadata": {
  "kernelspec": {
   "display_name": "Python 3",
   "language": "python",
   "name": "python3"
  },
  "language_info": {
   "codemirror_mode": {
    "name": "ipython",
    "version": 3
   },
   "file_extension": ".py",
   "mimetype": "text/x-python",
   "name": "python",
   "nbconvert_exporter": "python",
   "pygments_lexer": "ipython3",
   "version": "3.8.8"
  }
 },
 "nbformat": 4,
 "nbformat_minor": 5
}
