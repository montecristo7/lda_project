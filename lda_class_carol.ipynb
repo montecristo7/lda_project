{
 "cells": [
  {
   "cell_type": "code",
   "execution_count": 1,
   "id": "working-castle",
   "metadata": {},
   "outputs": [],
   "source": [
    "from lda_class_carol import LDA2"
   ]
  },
  {
   "cell_type": "code",
   "execution_count": 2,
   "id": "relative-drain",
   "metadata": {},
   "outputs": [
    {
     "data": {
      "text/plain": [
       "[[('a', 1.0), ('b', 0.0)], [('b', 1.0), ('a', 0.0)]]"
      ]
     },
     "execution_count": 2,
     "metadata": {},
     "output_type": "execute_result"
    }
   ],
   "source": [
    "d1='a '*10\n",
    "d2='b '*10\n",
    "docs=[d1,d2]*10\n",
    "a=LDA2(docs)\n",
    "a.lda(2,5)"
   ]
  },
  {
   "cell_type": "code",
   "execution_count": 5,
   "id": "informed-mayor",
   "metadata": {},
   "outputs": [
    {
     "data": {
      "text/plain": [
       "[[('a', 0.050276621122145065),\n",
       "  ('for', 0.04810886276255096),\n",
       "  ('the', 0.036783318056150045),\n",
       "  ('is', 0.03231381130513576),\n",
       "  ('of', 0.029594672782335255)],\n",
       " [('and', 0.07158622751710034),\n",
       "  ('a', 0.05297362474237385),\n",
       "  ('the', 0.04497419621448641),\n",
       "  ('of', 0.03221544351530179),\n",
       "  ('her', 0.025758020506593097)]]"
      ]
     },
     "execution_count": 5,
     "metadata": {},
     "output_type": "execute_result"
    }
   ],
   "source": [
    "d1 = \"Java is a language for programming that develops a software for several platforms. A compiled code or bytecode on Java application can run on most of the operating systems including Linux, Mac operating system, and Linux. Most of the syntax of Java is derived from the C++ and C languages.\"\n",
    "d2 = \"Python supports multiple programming paradigms and comes up with a large standard library, paradigms included are object-oriented, imperative, functional and procedural.\"\n",
    "d3 = \"Go is typed statically compiled language. It was created by Robert Griesemer, Ken Thompson, and Rob Pike in 2009. This language offers garbage collection, concurrency of CSP-style, memory safety, and structural typing.\"\n",
    "d4 = \"A young girl when she first visited magical Underland, Alice Kingsleigh (Mia Wasikowska) is now a teenager with no memory of the place -- except in her dreams.\"\n",
    "d5 = \"Her life takes a turn for the unexpected when, at a garden party for her fiance and herself, she spots a certain white rabbit and tumbles down a hole after him. Reunited with her friends the Mad Hatter (Johnny Depp), the Cheshire Cat and others, Alice learns it is her destiny to end the Red Queen's (Helena Bonham Carter) reign of terror.\"\n",
    "docs=[d1,d2,d3,d4,d5]\n",
    "b=LDA2(docs)\n",
    "b.lda(2,5,conv_threshold=1e-2,max_iter=100,npass=10)"
   ]
  },
  {
   "cell_type": "code",
   "execution_count": 9,
   "id": "delayed-amber",
   "metadata": {},
   "outputs": [
    {
     "ename": "FileNotFoundError",
     "evalue": "[Errno 2] No such file or directory: 'acc'",
     "output_type": "error",
     "traceback": [
      "\u001b[0;31m\u001b[0m",
      "\u001b[0;31mFileNotFoundError\u001b[0mTraceback (most recent call last)",
      "\u001b[0;32m<ipython-input-9-7e9ab1e14267>\u001b[0m in \u001b[0;36m<module>\u001b[0;34m\u001b[0m\n\u001b[1;32m      1\u001b[0m \u001b[0;32mimport\u001b[0m \u001b[0mnumpy\u001b[0m \u001b[0;32mas\u001b[0m \u001b[0mnp\u001b[0m\u001b[0;34m\u001b[0m\u001b[0;34m\u001b[0m\u001b[0m\n\u001b[0;32m----> 2\u001b[0;31m \u001b[0mfile\u001b[0m \u001b[0;34m=\u001b[0m \u001b[0mopen\u001b[0m\u001b[0;34m(\u001b[0m\u001b[0;34m\"acc\"\u001b[0m\u001b[0;34m,\u001b[0m \u001b[0;34m\"rb\"\u001b[0m\u001b[0;34m)\u001b[0m\u001b[0;34m\u001b[0m\u001b[0;34m\u001b[0m\u001b[0m\n\u001b[0m\u001b[1;32m      3\u001b[0m \u001b[0marr1\u001b[0m \u001b[0;34m=\u001b[0m \u001b[0mnp\u001b[0m\u001b[0;34m.\u001b[0m\u001b[0mload\u001b[0m\u001b[0;34m(\u001b[0m\u001b[0mfile\u001b[0m\u001b[0;34m)\u001b[0m\u001b[0;34m\u001b[0m\u001b[0;34m\u001b[0m\u001b[0m\n",
      "\u001b[0;31mFileNotFoundError\u001b[0m: [Errno 2] No such file or directory: 'acc'"
     ]
    }
   ],
   "source": [
    "import numpy as np\n",
    "file = open(\"acc\", \"rb\")\n",
    "arr1 = np.load(file)"
   ]
  },
  {
   "cell_type": "code",
   "execution_count": 8,
   "id": "respective-liver",
   "metadata": {},
   "outputs": [
    {
     "data": {
      "text/plain": [
       "array([6, 8, 8])"
      ]
     },
     "execution_count": 8,
     "metadata": {},
     "output_type": "execute_result"
    }
   ],
   "source": [
    "arr1"
   ]
  },
  {
   "cell_type": "code",
   "execution_count": null,
   "id": "printable-reader",
   "metadata": {},
   "outputs": [],
   "source": []
  }
 ],
 "metadata": {
  "kernelspec": {
   "display_name": "Python 3",
   "language": "python",
   "name": "python3"
  },
  "language_info": {
   "codemirror_mode": {
    "name": "ipython",
    "version": 3
   },
   "file_extension": ".py",
   "mimetype": "text/x-python",
   "name": "python",
   "nbconvert_exporter": "python",
   "pygments_lexer": "ipython3",
   "version": "3.7.9"
  }
 },
 "nbformat": 4,
 "nbformat_minor": 5
}
