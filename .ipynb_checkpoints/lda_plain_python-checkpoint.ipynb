{
 "cells": [
  {
   "cell_type": "markdown",
   "id": "painful-forge",
   "metadata": {},
   "source": [
    "# The Variational EM algorithm of LDA"
   ]
  },
  {
   "cell_type": "code",
   "execution_count": 1,
   "id": "invalid-sheriff",
   "metadata": {},
   "outputs": [],
   "source": [
    "import utilities\n",
    "import numpy as np\n",
    "import re\n",
    "import string\n",
    "import collections\n",
    "import random\n",
    "from scipy.special import gammaln, psi, polygamma\n",
    "from functools import reduce\n",
    "from warnings import warn\n",
    "import random\n",
    "import sys\n",
    "import matplotlib.pyplot as plt"
   ]
  },
  {
   "cell_type": "code",
   "execution_count": 2,
   "id": "spoken-bidding",
   "metadata": {},
   "outputs": [
    {
     "data": {
      "text/plain": [
       "[(0, 1), (1, 1), (2, 1), (3, 1), (5, 1)]"
      ]
     },
     "execution_count": 2,
     "metadata": {},
     "output_type": "execute_result"
    }
   ],
   "source": [
    "# an example of parsing a document\n",
    "doc='two-three one, Sth*, five, else ^#%$@#@#'\n",
    "vocab=dict(zip(('one','two','three','sth','four','else'),range(6)))\n",
    "parsed_doc=utilities.parse_doc(doc,vocab)\n",
    "parsed_doc\n"
   ]
  },
  {
   "cell_type": "markdown",
   "id": "federal-avatar",
   "metadata": {},
   "source": [
    "## The equivalent class of words\n",
    "Suppose we have a single document. Let \n",
    "\n",
    "$$\\tilde{w_n}=\\text{j such that }w_n^j=1$$\n",
    "To carry out the inference, first note that for fixed $i,j$, $\\{\\phi_{ni}: \\tilde{w_n}=j\\}$ will all be the same. This suggests us to define the following quantity:\n",
    "\n",
    "$$\\tilde{\\phi_{ji}}=\\phi_{ni}, \\text{ where }\\tilde{w_n}=j$$\n",
    "We only need to update $\\tilde{\\phi}$ in the variational inference (E-step). For fixed $i$, the length of $\\tilde{\\phi}_{:,i}$ is the cardinality of $\\{\\tilde{w_n}: n=1,\\cdots, N\\}$.\n"
   ]
  },
  {
   "cell_type": "code",
   "execution_count": 3,
   "id": "stylish-mustang",
   "metadata": {},
   "outputs": [],
   "source": [
    "def variational_inference(N,k,V,alpha,beta,w,conv_threshold=1e-5,max_iter=int(1e6)):\n",
    "    \"\"\"\n",
    "    Variational inference algorithm for document-specific parameters of a single doc in LDA (figure 6 in the paper)\n",
    "    Arguments:\n",
    "    N: number of words in the document\n",
    "    k: number of topics\n",
    "    V: length of vocabulary\n",
    "    alpha: corpus-level Dirichlet parameter, k-vector\n",
    "    beta: corpus-level multinomial parameter, k * V matrix\n",
    "    w: word id obtained from parsing the document\n",
    "    conv_threshold: threshold for convergence\n",
    "    max_iter: maximum number of iterations\n",
    "    Output:\n",
    "    A tuple of document specific optimizing parameters $(\\gamma^*, \\phi^*)$ obtained from variational inference.  \n",
    "    First element: $\\gamma^*$, k-vector\n",
    "    Second element: the second sum in Eq(9), k*V matrix\n",
    "    \"\"\"\n",
    "    phi0=np.full(shape=(N,k),fill_value=1/k) \n",
    "    phi1=phi0\n",
    "    gamma0=alpha+N/k\n",
    "    for it in range(max_iter):\n",
    "        for n in range(N):\n",
    "            for i in range(k):\n",
    "                phi1[n,i]=beta[i,w[n]]*np.exp(psi(gamma0[i]))\n",
    "            phi1[n,]=phi1[n,]/np.sum(phi1[n,])\n",
    "        gamma1=alpha+np.sum(phi1,axis=0)\n",
    "        # stop if gamma has converged\n",
    "        if np.mean(np.abs(gamma0-gamma1))<conv_threshold:\n",
    "            break\n",
    "        gamma0=gamma1\n",
    "        phi0=phi1 \n",
    "    suff_stat=np.zeros(shape=(V,k))\n",
    "    for n in range(N):\n",
    "        suff_stat[w[n],]=suff_stat[w[n],]+phi1[n,]\n",
    "    return (gamma1,suff_stat.T) "
   ]
  },
  {
   "cell_type": "code",
   "execution_count": 4,
   "id": "excellent-season",
   "metadata": {},
   "outputs": [],
   "source": [
    "def e_step(N,k,V,alpha,beta,word_dict,conv_threshold=1e-5,max_iter=int(1e6)):\n",
    "    \"\"\"\n",
    "    Variational inference algorithm for document-specific parameters of a single doc in LDA with the equivalent class representation.\n",
    "    Arguments:\n",
    "    N: number of words\n",
    "    k: number of topics\n",
    "    V: length of vocabulary\n",
    "    alpha: corpus-level Dirichlet parameter, k-vector\n",
    "    beta: corpus-level multinomial parameter, k * V matrix\n",
    "    word_dict: word_dict from parse_doc\n",
    "    conv_threshold: threshold for convergence\n",
    "    max_iter: maximum number of iterations\n",
    "    Output:\n",
    "    A tuple of document specific optimizing parameters $(\\gamma^*, \\phi^*)$ obtained from variational inference.  \n",
    "    First element: $\\gamma^*$, k-vector\n",
    "    Second element: the second sum in Eq(9), k*V matrix\n",
    "    \"\"\"\n",
    "    conv=False\n",
    "    wordid=list(map(lambda x:x[0],word_dict))\n",
    "    wordcnt=list(map(lambda x:x[1],word_dict))\n",
    "    phi0=np.full(shape=(len(wordid),k),fill_value=1/k) # phi_tilde \n",
    "    phi1=np.zeros(shape=(len(wordid),k))\n",
    "    gamma0=alpha+N/k\n",
    "    for it in range(max_iter):\n",
    "        for j in range(len(wordid)):\n",
    "            # the jth row of phi1 corresponds to the word labelled as wordid[j]\n",
    "            for i in range(k):\n",
    "                #phi1[j,i]=beta[i,wordid[j]]*np.exp(psi(gamma0[i]))*wordcnt[j]\n",
    "                phi1[j,i]=beta[i,wordid[j]]*np.exp(psi(gamma0[i]))\n",
    "            phi1[j,]=phi1[j,]/np.sum(phi1[j,])\n",
    "        gamma1=alpha+np.sum(phi1*(np.array(wordcnt).reshape((-1,1))),axis=0)\n",
    "        #gamma1=alpha+np.sum(phi1,axis=0)\n",
    "        # stop if gamma has converged\n",
    "        if np.max(np.abs((gamma0-gamma1)))<conv_threshold:\n",
    "            conv=True\n",
    "            break\n",
    "        gamma0=gamma1\n",
    "        phi0=phi1 \n",
    "    if not conv:\n",
    "        warn('Variational inference has not converged. Try more iterations.')\n",
    "    suff_stat=np.zeros(shape=(V,k))\n",
    "    suff_stat[wordid,]=phi1*(np.array(wordcnt).reshape((-1,1)))\n",
    "    #print(suff_stat)\n",
    "    #print('gamma1:',gamma1)\n",
    "    return (gamma1,suff_stat.T) "
   ]
  },
  {
   "cell_type": "code",
   "execution_count": null,
   "id": "aggregate-brooklyn",
   "metadata": {},
   "outputs": [],
   "source": []
  },
  {
   "cell_type": "markdown",
   "id": "instructional-dress",
   "metadata": {},
   "source": [
    "## The M-step\n",
    "\n",
    "The parameters $\\beta$ and $\\alpha$ are updated in the M step. \n",
    "\n",
    "$\\beta$ is updated with Eq(9). \n",
    "\n",
    "$\\alpha$ is updated with Newton-Raphson:\n",
    "$$\\alpha_{new}=\\alpha_{old}-H(\\alpha_{old})^{-1}g(\\alpha_{old}),$$\n",
    "where $H(\\alpha)=(\\frac{\\partial^2\\mathcal{L}}{\\partial\\alpha_i\\partial\\alpha_j})_{k\\times k}$ is the Hessian matrix and $g(\\alpha)=(\\frac{\\partial \\mathcal{L}}{\\partial \\alpha_i})_{i=1}^k$ is the gradient. \n",
    "\n",
    "A.4.2 shows that \n",
    "$$\\frac{\\partial \\mathcal{L}}{\\partial \\alpha_i}=M \\left(\\Psi\\left(\\sum_{j=1}^k \\alpha_j\\right)-\\Psi(\\alpha_i)\\right) + \\sum_{d=1}^M \\left(\\Psi(\\gamma_{di})-\\Psi(\\sum_{j=1}^k\\gamma_{dj}) \\right),$$\n",
    "$$\\frac{\\partial^2\\mathcal{L}}{\\partial\\alpha_i\\partial\\alpha_j}=\\delta(i,j)M\\Psi'(\\alpha_i)-\\Psi'\\left(\\sum_{j=1}^k\\alpha_j\\right),$$\n",
    "i.e.,\n",
    "$$H(\\alpha)=diag(h)+1z1^T,$$\n",
    "where $$z=-\\Psi'\\left(\\sum_{j=1}^k\\alpha_j\\right),h=M\\Psi'(\\alpha)$$\n",
    "By A.2, we have \n",
    "$$(H^{-1}g)_i=\\frac{g_i-c}{h_i},$$\n",
    "where \n",
    "$$c=\\frac{\\sum_{j=1}^k g_j/h_j}{1/z+\\sum_{j=1}^k h_j^{-1}}$$"
   ]
  },
  {
   "cell_type": "code",
   "execution_count": 5,
   "id": "marine-madonna",
   "metadata": {},
   "outputs": [],
   "source": [
    "def m_step(M,k,V,suff_stat_list,gamma_list,alpha0,conv_threshold=1e-5,max_iter=int(1e6)):\n",
    "    \"\"\"\n",
    "    M-step in variational EM, maximizing the lower bound on log-likelihood w.r.t. alpha and beta. (Section 5.3)\n",
    "    Arguments:\n",
    "    M: number of documents in the corpus\n",
    "    k: number of topics\n",
    "    V: length of vocab\n",
    "    suff_stat_list: M-list of sufficient statistics (k * V matrices), one for each doc\n",
    "    gamma_list: M-list of gamma's (k-vectors), one for each doc\n",
    "    alpha0: initialization of alpha in Newton-Raphson\n",
    "    conv_threshold: convergence threshold in Newton-Raphson\n",
    "    max_iter: maximum number of iterations in Newton-Raphson\n",
    "    Output:\n",
    "    A 2-tuple. \n",
    "    First element: beta (k*V matrix)\n",
    "    Second element: alpha (k*1)\n",
    "    \"\"\"\n",
    "    alphalist=[alpha0]\n",
    "    ll=[]\n",
    "    ll0=conv_threshold\n",
    "    conv=False\n",
    "    # update beta\n",
    "    beta=reduce(lambda x,y: x+y, suff_stat_list)\n",
    "    beta=beta/np.sum(beta,axis=1).reshape((-1,1))\n",
    "    # update alpha (Newton-Raphson)\n",
    "    alpha0=alpha0.reshape(k,1)\n",
    "    psi_sum_gamma=np.array(list(map(lambda x: psi(np.sum(x)),gamma_list))).reshape((M,1)) # M*1 \n",
    "    psi_gamma=psi(np.array(gamma_list)) # M*k matrix\n",
    "    #print('gamma',psi_sum_gamma,psi_gamma)\n",
    "    for it in range(max_iter):\n",
    "        psi_sum_alpha=psi(np.sum(alpha0))\n",
    "        #print('psi_sum_alpha',psi_sum_alpha)\n",
    "        g=M*(psi_sum_alpha-psi(alpha0)).reshape((k,1))+np.sum(psi_gamma-psi_sum_gamma,axis=0).reshape((k,1)) # k*1 \n",
    "        #print('g',g)\n",
    "        #h=M*polygamma(1,alpha0) # k*1\n",
    "        h=-M*polygamma(1,alpha0) # k*1\n",
    "        #print('h',h)\n",
    "        #z=-polygamma(1,np.sum(alpha0))\n",
    "        z=polygamma(1,np.sum(alpha0))\n",
    "        c=np.sum(g/h.reshape((k,1)))/(1/z+np.sum(1/h))\n",
    "        #print('c',c)\n",
    "        invHg=(g-c)/h.reshape((k,1))\n",
    "        #print('invHg:')\n",
    "        #print(invHg)\n",
    "        #print('g:')\n",
    "        #print(g)\n",
    "        alpha1=alpha0-invHg \n",
    "        #############\n",
    "        #alpha1=np.abs(alpha1)\n",
    "        #############\n",
    "        #alpha1=np.clip(alpha1,1e-10,1e100) # for numerical stability\n",
    "        ll1=utilities.loglik(alpha1,gamma_list,M,k)\n",
    "        ll.append(ll1)\n",
    "        if np.abs((ll1-ll0)/ll0)<conv_threshold:\n",
    "            print('newton finished at iteration',it)\n",
    "            conv=True\n",
    "            break\n",
    "        #print('alpha1:')\n",
    "        #print(alpha1)\n",
    "        #print('loglik:')\n",
    "        #print(utilities.loglik(alpha1,gamma_list,M,k))\n",
    "        alpha0=alpha1\n",
    "        alphalist.append(alpha1)\n",
    "        ll0=ll1\n",
    "    if not conv:\n",
    "        warn('Newton-Raphson has not converged. Try more iterations.')\n",
    "    return (beta,alpha1,ll,alphalist)"
   ]
  },
  {
   "cell_type": "code",
   "execution_count": 6,
   "id": "variable-calcium",
   "metadata": {},
   "outputs": [],
   "source": [
    "def m_step_gd(M,k,V,suff_stat_list,gamma_list,alpha0,conv_threshold=1e-5,max_iter=int(1e6),stepsize=0.05):\n",
    "    alphalist=[alpha0]\n",
    "    ll=[]\n",
    "    ll0=conv_threshold\n",
    "    conv=False\n",
    "    # update beta\n",
    "    beta=reduce(lambda x,y: x+y, suff_stat_list)\n",
    "    beta=beta/np.sum(beta,axis=1).reshape((-1,1))\n",
    "    # update alpha (Newton-Raphson)\n",
    "    alpha0=alpha0.reshape(k,1)\n",
    "    psi_sum_gamma=np.array(list(map(lambda x: psi(np.sum(x)),gamma_list))).reshape((M,1)) # M*1 \n",
    "    psi_gamma=psi(np.array(gamma_list)) # M*k matrix\n",
    "    #print('gamma',psi_sum_gamma,psi_gamma)\n",
    "    for it in range(max_iter):\n",
    "        psi_sum_alpha=psi(np.sum(alpha0))\n",
    "        #print('psi_sum_alpha',psi_sum_alpha)\n",
    "        g=M*(psi_sum_alpha-psi(alpha0)).reshape((k,1))+np.sum(psi_gamma-psi_sum_gamma,axis=0).reshape((k,1)) # k*1 \n",
    "        #print('g:')\n",
    "        #print(g)\n",
    "        alpha1=alpha0+stepsize*g #because we are looking for MAXIMUM\n",
    "        #############\n",
    "        #alpha1=np.abs(alpha1)\n",
    "        #############\n",
    "        #alpha1=np.clip(alpha1,1e-10,1e100) # for numerical stability\n",
    "        ll1=utilities.loglik(alpha1,gamma_list,M,k)\n",
    "        ll.append(ll1)\n",
    "        if np.abs((ll1-ll0)/ll0)<conv_threshold:\n",
    "            print('GD finished at iteration',it)\n",
    "            conv=True\n",
    "            break\n",
    "        #print('alpha1:')\n",
    "        #print(alpha1)\n",
    "        #print('loglik:')\n",
    "        #print(utilities.loglik(alpha1,gamma_list,M,k))\n",
    "        alpha0=alpha1\n",
    "        ll0=ll1\n",
    "        alphalist.append(alpha1)\n",
    "    if not conv:\n",
    "        warn('GD has not converged. Try more iterations.')\n",
    "    return (beta,alpha1,ll,alphalist)"
   ]
  },
  {
   "cell_type": "markdown",
   "id": "accepting-timber",
   "metadata": {},
   "source": [
    "## The variational EM without smoothing "
   ]
  },
  {
   "cell_type": "code",
   "execution_count": 7,
   "id": "different-ballet",
   "metadata": {},
   "outputs": [],
   "source": [
    "def variational_em(Nd,alpha0,beta0,word_dicts,vocab,M,k, conv_threshold=1e-5,max_iter=int(1e6),niter=int(1e6)):\n",
    "    \"\"\"\n",
    "    Input:\n",
    "    Nd: list of length of documents \n",
    "    alpha0: initialization of alpha\n",
    "    beta0: initialization of beta. DO NOT initialize with identical rows!\n",
    "    word_dicts: list of word_dict of documents, in the same order as N\n",
    "    vocab: vocabulary\n",
    "    M: number of documents\n",
    "    k: number of topics\n",
    "    \"\"\"\n",
    "    V=len(vocab)\n",
    "    for it in range(niter):\n",
    "        print(it)\n",
    "        e_estimates=list(map(lambda x,y: e_step(x,k,V,alpha0,beta0,y,conv_threshold=conv_threshold,max_iter=max_iter), Nd,word_dicts))\n",
    "        gamma_list=list(map(lambda x:x[0],e_estimates))\n",
    "        #print('gammalist',gamma_list)\n",
    "        suff_stat_list=list(map(lambda x:x[1],e_estimates))\n",
    "        m_estimates=m_step(M,k,V,suff_stat_list,gamma_list,alpha0,conv_threshold=conv_threshold,max_iter=max_iter)\n",
    "        alpha1=m_estimates[1]\n",
    "        beta1=m_estimates[0]\n",
    "        #print('alpha1=',alpha1,'beta1=',beta1)\n",
    "        if np.max(np.abs((beta1-beta0)/beta0))<conv_threshold:\n",
    "            print('vem finished at iteration',it)\n",
    "            break\n",
    "        alpha0=alpha1.reshape(k)\n",
    "        beta0=beta1\n",
    "        #print(alpha1)\n",
    "        #print(beta1)\n",
    "    return (alpha0,beta0)"
   ]
  },
  {
   "cell_type": "code",
   "execution_count": 8,
   "id": "separate-selling",
   "metadata": {},
   "outputs": [],
   "source": [
    "def variational_em_gd(Nd,alpha0,beta0,word_dicts,vocab,M,k, conv_threshold=1e-5,max_iter=int(1e6),niter=int(1e6),stepsize=0.05):\n",
    "    \"\"\"\n",
    "    Input:\n",
    "    Nd: list of length of documents \n",
    "    alpha0: initialization of alpha\n",
    "    beta0: initialization of beta. DO NOT initialize with identical rows!\n",
    "    word_dicts: list of word_dict of documents, in the same order as N\n",
    "    vocab: vocabulary\n",
    "    M: number of documents\n",
    "    k: number of topics\n",
    "    \"\"\"\n",
    "    V=len(vocab)\n",
    "    for it in range(niter):\n",
    "        print(it)\n",
    "        e_estimates=list(map(lambda x,y: e_step(x,k,V,alpha0,beta0,y,conv_threshold=conv_threshold,max_iter=max_iter), Nd,word_dicts))\n",
    "        gamma_list=list(map(lambda x:x[0],e_estimates))\n",
    "        #print('gammalist',gamma_list)\n",
    "        suff_stat_list=list(map(lambda x:x[1],e_estimates))\n",
    "        m_estimates=m_step_gd(M,k,V,suff_stat_list,gamma_list,alpha0,conv_threshold=conv_threshold,max_iter=max_iter,stepsize=stepsize)        \n",
    "        alpha1=m_estimates[1]\n",
    "        beta1=m_estimates[0]\n",
    "        #print('alpha1=',alpha1,'beta1=',beta1)\n",
    "        if np.max(np.abs((beta1-beta0)/beta0))<conv_threshold:\n",
    "            print('vem finished at iteration',it)\n",
    "            break\n",
    "        alpha0=alpha1.reshape(k)\n",
    "        beta0=beta1\n",
    "        #print(alpha1)\n",
    "        #print(beta1)\n",
    "    return (alpha0,beta0)"
   ]
  },
  {
   "cell_type": "code",
   "execution_count": 9,
   "id": "absent-fever",
   "metadata": {},
   "outputs": [],
   "source": [
    "random.seed(2)\n",
    "doc1='you '*10+' fish '+' is '\n",
    "doc2='fish '*10+' you '+' is '\n",
    "docs=[doc1,doc2]*100\n",
    "docs=list(map(lambda x:x*10,docs))\n",
    "vocab=utilities.make_vocab_from_docs(docs)\n",
    "word_dicts=list(map(lambda x: utilities.parse_doc(x,vocab),docs))\n",
    "Nd=list(map(len,docs))\n",
    "k,M,V=2,len(docs),len(vocab)\n",
    "#alpha0=np.random.random(2)\n",
    "alpha0=np.array([1,1]).reshape(2)\n",
    "beta0=np.random.random((2,3))\n",
    "#beta0=np.array([1,1,1,1,1,1]).reshape((2,3))\n",
    "beta0=beta0/np.sum(beta0,axis=1).reshape((-1,1))"
   ]
  },
  {
   "cell_type": "code",
   "execution_count": 10,
   "id": "municipal-wright",
   "metadata": {},
   "outputs": [
    {
     "data": {
      "text/plain": [
       "{'fish': 0, 'is': 1, 'you': 2}"
      ]
     },
     "execution_count": 10,
     "metadata": {},
     "output_type": "execute_result"
    }
   ],
   "source": [
    "vocab"
   ]
  },
  {
   "cell_type": "code",
   "execution_count": 11,
   "id": "caring-barrel",
   "metadata": {},
   "outputs": [
    {
     "name": "stdout",
     "output_type": "stream",
     "text": [
      "0\n",
      "newton finished at iteration 12\n",
      "1\n",
      "newton finished at iteration 9\n",
      "2\n",
      "newton finished at iteration 2\n",
      "3\n",
      "newton finished at iteration 5\n",
      "4\n",
      "newton finished at iteration 7\n",
      "5\n",
      "newton finished at iteration 3\n",
      "6\n",
      "newton finished at iteration 2\n",
      "7\n",
      "newton finished at iteration 1\n",
      "8\n",
      "newton finished at iteration 1\n",
      "9\n",
      "newton finished at iteration 1\n"
     ]
    }
   ],
   "source": [
    "vem=variational_em(Nd,alpha0,beta0,word_dicts,vocab,M,k, conv_threshold=1e-2,max_iter=int(1e3),niter=int(10))"
   ]
  },
  {
   "cell_type": "code",
   "execution_count": 12,
   "id": "overhead-remainder",
   "metadata": {},
   "outputs": [
    {
     "data": {
      "text/plain": [
       "(array([[0.02, 0.08, 0.9 ],\n",
       "        [0.83, 0.08, 0.08]]),\n",
       " array([0.1 , 0.24]))"
      ]
     },
     "execution_count": 12,
     "metadata": {},
     "output_type": "execute_result"
    }
   ],
   "source": [
    "np.round(vem[1],2),np.round(vem[0],2)"
   ]
  },
  {
   "cell_type": "code",
   "execution_count": 13,
   "id": "spectacular-while",
   "metadata": {},
   "outputs": [
    {
     "name": "stdout",
     "output_type": "stream",
     "text": [
      "0\n",
      "GD finished at iteration 54\n",
      "1\n",
      "GD finished at iteration 19\n",
      "2\n",
      "GD finished at iteration 21\n",
      "vem finished at iteration 2\n"
     ]
    }
   ],
   "source": [
    "vem=variational_em_gd(Nd,alpha0,beta0,word_dicts,vocab,M,k, conv_threshold=1e-2,max_iter=int(1e3),niter=int(10),stepsize=1e-4)"
   ]
  },
  {
   "cell_type": "code",
   "execution_count": 14,
   "id": "downtown-claim",
   "metadata": {},
   "outputs": [
    {
     "data": {
      "text/plain": [
       "(array([[0.01, 0.08, 0.9 ],\n",
       "        [0.83, 0.08, 0.08]]),\n",
       " array([0.23, 0.45]))"
      ]
     },
     "execution_count": 14,
     "metadata": {},
     "output_type": "execute_result"
    }
   ],
   "source": [
    "np.round(vem[1],2),np.round(vem[0],2)"
   ]
  },
  {
   "cell_type": "markdown",
   "id": "bizarre-honolulu",
   "metadata": {},
   "source": [
    "### Visualization of Newton Raphson trajectory in iteration 1 of variational EM"
   ]
  },
  {
   "cell_type": "code",
   "execution_count": 15,
   "id": "illegal-appearance",
   "metadata": {},
   "outputs": [
    {
     "name": "stdout",
     "output_type": "stream",
     "text": [
      "newton finished at iteration 17\n"
     ]
    }
   ],
   "source": [
    "random.seed(1)\n",
    "e_estimates=list(map(lambda x,y: e_step(x,k,V,alpha0,beta0,y,conv_threshold=1e-5,max_iter=int(1e5)), Nd,word_dicts))\n",
    "gamma_list=list(map(lambda x:x[0],e_estimates))\n",
    "#print('gammalist',gamma_list)\n",
    "suff_stat_list=list(map(lambda x:x[1],e_estimates))\n",
    "gamma_list=list(map(lambda x:x[0],e_estimates))\n",
    "#print('gammalist',gamma_list)\n",
    "suff_stat_list=list(map(lambda x:x[1],e_estimates))\n",
    "m_estimates=m_step(M,k,V,suff_stat_list,gamma_list,alpha0,conv_threshold=1e-3,max_iter=int(1e3))"
   ]
  },
  {
   "cell_type": "code",
   "execution_count": 16,
   "id": "naked-prevention",
   "metadata": {},
   "outputs": [
    {
     "data": {
      "image/png": "[encoded data removed]",
      "text/plain": [
       "<Figure size 432x288 with 1 Axes>"
      ]
     },
     "metadata": {
      "needs_background": "light"
     },
     "output_type": "display_data"
    }
   ],
   "source": [
    "plt.plot(m_estimates[2])\n",
    "plt.title('log likelihood')\n",
    "plt.xlabel('Newton iteration')\n",
    "pass"
   ]
  },
  {
   "cell_type": "markdown",
   "id": "equivalent-dispute",
   "metadata": {},
   "source": [
    "Trajectory of $\\alpha$ on contour of log likelihood"
   ]
  },
  {
   "cell_type": "code",
   "execution_count": 17,
   "id": "southeast-heath",
   "metadata": {},
   "outputs": [
    {
     "data": {
      "image/png": "[encoded data removed]",
      "text/plain": [
       "<Figure size 432x288 with 1 Axes>"
      ]
     },
     "metadata": {
      "needs_background": "light"
     },
     "output_type": "display_data"
    }
   ],
   "source": [
    "alpha_grid=np.linspace(0.001,5)\n",
    "l=np.zeros((len(alpha_grid),len(alpha_grid)))\n",
    "for i in range(len(alpha_grid)):\n",
    "    for j in range(len(alpha_grid)):\n",
    "        l[i,j]=utilities.loglik(np.array([alpha_grid[i],alpha_grid[j]]),gamma_list,M,k)\n",
    "xx,yy=np.meshgrid(alpha_grid,alpha_grid)\n",
    "cs = plt.contourf(xx,yy,l,levels=np.quantile(l,np.linspace(0,1,10)))\n",
    "proxy = [plt.Rectangle((0,0),1,1,fc = pc.get_facecolor()[0]) \n",
    "    for pc in cs.collections]\n",
    "plt.legend(proxy, np.round(np.quantile(l,np.linspace(0,1,10)),2))\n",
    "T=70\n",
    "plt.plot(np.array(list(map(lambda x: x[0],m_estimates[3])),dtype=float)[0:T],np.array(list(map(lambda x: x[1],m_estimates[3])),dtype=float)[0:T])\n",
    "plt.scatter(np.array(list(map(lambda x: x[0],m_estimates[3])),dtype=float)[0:T],np.array(list(map(lambda x: x[1],m_estimates[3])),dtype=float)[0:T])\n",
    "plt.scatter(x=m_estimates[3][0][0],y=m_estimates[3][0][1])\n",
    "plt.show()\n",
    "pass"
   ]
  },
  {
   "cell_type": "markdown",
   "id": "handled-patent",
   "metadata": {},
   "source": [
    "A potential issue in Newton Raphson is it might result in negative values."
   ]
  },
  {
   "cell_type": "markdown",
   "id": "available-giving",
   "metadata": {},
   "source": [
    "### Visualization of GD trajectory in iteration 1 of variational EM"
   ]
  },
  {
   "cell_type": "code",
   "execution_count": 55,
   "id": "satisfactory-westminster",
   "metadata": {},
   "outputs": [
    {
     "name": "stdout",
     "output_type": "stream",
     "text": [
      "GD finished at iteration 544\n"
     ]
    }
   ],
   "source": [
    "random.seed(1)\n",
    "e_estimates=list(map(lambda x,y: e_step(x,k,V,alpha0,beta0,y,conv_threshold=1e-5,max_iter=int(1e5)), Nd,word_dicts))\n",
    "gamma_list=list(map(lambda x:x[0],e_estimates))\n",
    "#print('gammalist',gamma_list)\n",
    "suff_stat_list=list(map(lambda x:x[1],e_estimates))\n",
    "gamma_list=list(map(lambda x:x[0],e_estimates))\n",
    "#print('gammalist',gamma_list)\n",
    "suff_stat_list=list(map(lambda x:x[1],e_estimates))\n",
    "m_estimates_gd=m_step_gd(M,k,V,suff_stat_list,gamma_list,alpha0,conv_threshold=1e-3,max_iter=int(1e4),stepsize=1e-5)"
   ]
  },
  {
   "cell_type": "code",
   "execution_count": 56,
   "id": "global-neighbor",
   "metadata": {},
   "outputs": [
    {
     "data": {
      "image/png": "[encoded data removed]",
      "text/plain": [
       "<Figure size 432x288 with 1 Axes>"
      ]
     },
     "metadata": {
      "needs_background": "light"
     },
     "output_type": "display_data"
    }
   ],
   "source": [
    "plt.plot(m_estimates_gd[2])\n",
    "plt.title('log likelihood')\n",
    "plt.xlabel('GD iteration')\n",
    "pass"
   ]
  },
  {
   "cell_type": "markdown",
   "id": "distinguished-realtor",
   "metadata": {},
   "source": [
    "Choice of step size and convergence criterion is crucial here. For example, try `stepsize=1e-2`:"
   ]
  },
  {
   "cell_type": "code",
   "execution_count": 58,
   "id": "superior-malaysia",
   "metadata": {},
   "outputs": [
    {
     "name": "stdout",
     "output_type": "stream",
     "text": [
      "GD finished at iteration 29\n"
     ]
    },
    {
     "data": {
      "image/png": "[encoded data removed]",
      "text/plain": [
       "<Figure size 432x288 with 1 Axes>"
      ]
     },
     "metadata": {
      "needs_background": "light"
     },
     "output_type": "display_data"
    }
   ],
   "source": [
    "random.seed(1)\n",
    "m_estimates_gd1=m_step_gd(M,k,V,suff_stat_list,gamma_list,alpha0,conv_threshold=1e-3,max_iter=int(1e4),stepsize=1e-2)\n",
    "plt.plot(m_estimates_gd1[2][0:100])\n",
    "plt.title('log likelihood')\n",
    "plt.xlabel('GD iteration')\n",
    "pass"
   ]
  },
  {
   "cell_type": "markdown",
   "id": "early-magnitude",
   "metadata": {},
   "source": [
    "Trajectory of $\\alpha$ on contour of log likelihood"
   ]
  },
  {
   "cell_type": "code",
   "execution_count": 60,
   "id": "continuing-interface",
   "metadata": {},
   "outputs": [
    {
     "data": {
      "image/png": "[encoded data removed]",
      "text/plain": [
       "<Figure size 432x288 with 1 Axes>"
      ]
     },
     "metadata": {
      "needs_background": "light"
     },
     "output_type": "display_data"
    }
   ],
   "source": [
    "alpha_grid=np.linspace(0.001,5)\n",
    "l=np.zeros((len(alpha_grid),len(alpha_grid)))\n",
    "for i in range(len(alpha_grid)):\n",
    "    for j in range(len(alpha_grid)):\n",
    "        l[i,j]=utilities.loglik(np.array([alpha_grid[i],alpha_grid[j]]),gamma_list,M,k)\n",
    "xx,yy=np.meshgrid(alpha_grid,alpha_grid)\n",
    "cs = plt.contourf(xx,yy,l,levels=np.quantile(l,np.linspace(0,1,10)))\n",
    "proxy = [plt.Rectangle((0,0),1,1,fc = pc.get_facecolor()[0]) \n",
    "    for pc in cs.collections]\n",
    "plt.legend(proxy, np.round(np.quantile(l,np.linspace(0,1,10)),2))\n",
    "T=500\n",
    "plt.plot(np.array(list(map(lambda x: x[0],m_estimates_gd[3])),dtype=float)[0:T],np.array(list(map(lambda x: x[1],m_estimates_gd[3])),dtype=float)[0:T])\n",
    "plt.scatter(np.array(list(map(lambda x: x[0],m_estimates_gd[3])),dtype=float)[0:T],np.array(list(map(lambda x: x[1],m_estimates_gd[3])),dtype=float)[0:T])\n",
    "plt.scatter(x=m_estimates_gd[3][0][0],y=m_estimates_gd[3][0][1])\n",
    "plt.show()\n",
    "pass"
   ]
  },
  {
   "cell_type": "code",
   "execution_count": null,
   "id": "fuzzy-organizer",
   "metadata": {},
   "outputs": [],
   "source": []
  }
 ],
 "metadata": {
  "kernelspec": {
   "display_name": "Python 3",
   "language": "python",
   "name": "python3"
  },
  "language_info": {
   "codemirror_mode": {
    "name": "ipython",
    "version": 3
   },
   "file_extension": ".py",
   "mimetype": "text/x-python",
   "name": "python",
   "nbconvert_exporter": "python",
   "pygments_lexer": "ipython3",
   "version": "3.7.9"
  }
 },
 "nbformat": 4,
 "nbformat_minor": 5
}
