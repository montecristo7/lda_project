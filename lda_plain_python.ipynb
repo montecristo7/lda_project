{
 "cells": [
  {
   "cell_type": "code",
   "execution_count": 6,
   "id": "proved-syndicate",
   "metadata": {},
   "outputs": [],
   "source": [
    "import numpy as np\n",
    "from scipy.special import psi"
   ]
  },
  {
   "cell_type": "code",
   "execution_count": 20,
   "id": "nervous-angola",
   "metadata": {},
   "outputs": [],
   "source": [
    "def variational_inference(N,k,alpha,beta,w,conv_threshold=1e-5,max_iter=int(1e6)):\n",
    "    \"\"\"\n",
    "    variational inference algorithm for document-specific parameters of a single doc in LDA (figure 6 in the paper)\n",
    "    w: word id obtained from the document\n",
    "    \"\"\"\n",
    "    phi0=np.full(shape=(N,k),fill_value=1/k)\n",
    "    gamma0=alpha+N/k\n",
    "    for it in range(max_iter):\n",
    "        for n in range(N):\n",
    "            for i in range(k):\n",
    "                phi1[n,i]=beta[i,w[n]]*np.exp(psi(gamma0[i]))\n",
    "            phi1[n,]=phi1[n,]/np.sum(phi1[n,])\n",
    "        gamma1=alpha+np.sum(phi1)\n",
    "        # stop if gamma has converged\n",
    "        if np.mean(np.abs(gamma0-gamma1))<conv_threshold:\n",
    "            break\n",
    "        gamma0=gamma1\n",
    "        phi0=phi1\n",
    "    return (gamma1,phi1)"
   ]
  }
 ],
 "metadata": {
  "kernelspec": {
   "display_name": "Python 3",
   "language": "python",
   "name": "python3"
  },
  "language_info": {
   "codemirror_mode": {
    "name": "ipython",
    "version": 3
   },
   "file_extension": ".py",
   "mimetype": "text/x-python",
   "name": "python",
   "nbconvert_exporter": "python",
   "pygments_lexer": "ipython3",
   "version": "3.7.9"
  }
 },
 "nbformat": 4,
 "nbformat_minor": 5
}
