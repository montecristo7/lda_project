{
 "cells": [
  {
   "cell_type": "code",
   "execution_count": 51,
   "id": "monthly-passport",
   "metadata": {},
   "outputs": [
    {
     "name": "stderr",
     "output_type": "stream",
     "text": [
      "[nltk_data] Downloading package reuters to /home/lyann/nltk_data...\n"
     ]
    },
    {
     "data": {
      "text/plain": [
       "True"
      ]
     },
     "execution_count": 51,
     "metadata": {},
     "output_type": "execute_result"
    }
   ],
   "source": [
    "import pandas as pd\n",
    "import numpy as np\n",
    "import re\n",
    "from scipy.special import psi  # gamma function utils\n",
    "from pprint import pprint\n",
    "import gensim.corpora as corpora\n",
    "from gensim.corpora import Dictionary\n",
    "import nltk\n",
    "from nltk.corpus import reuters\n",
    "nltk.download('reuters')"
   ]
  },
  {
   "cell_type": "code",
   "execution_count": 69,
   "id": "041b972a-627a-4956-b8ec-3f04453a02fe",
   "metadata": {},
   "outputs": [],
   "source": [
    "stop_words = [\"would\", \"could\", \"said\", \"u\", \"us\", \"also\", \"may\", \"i\", \"me\", \"my\", \"myself\", \"we\", \"our\", \"ours\", \"ourselves\", \"you\", \"your\", \"yours\", \"yourself\", \"yourselves\", \"he\", \"him\", \"his\", \"himself\", \"she\", \"her\", \"hers\", \"herself\", \"it\", \"its\", \"itself\", \"they\", \"them\", \"their\", \"theirs\", \"themselves\", \"what\", \"which\", \"who\", \"whom\", \"this\", \"that\", \"these\", \"those\", \"am\", \"is\", \"are\", \"was\", \"were\", \"be\", \"been\", \"being\", \"have\", \"has\", \"had\", \"having\", \"do\", \"does\", \"did\", \"doing\", \"a\", \"an\", \"the\", \"and\", \"but\", \"if\", \"or\", \"because\", \"as\", \"until\", \"while\", \"of\", \"at\", \"by\", \"for\", \"with\", \"about\", \"against\", \"between\", \"into\", \"through\", \"during\", \"before\", \"after\", \"above\", \"below\", \"to\", \"from\", \"up\", \"down\", \"in\", \"out\", \"on\", \"off\", \"over\", \"under\", \"again\", \"further\", \"then\", \"once\", \"here\", \"there\", \"when\", \"where\", \"why\", \"how\", \"all\", \"any\", \"both\", \"each\", \"few\", \"more\", \"most\", \"other\", \"some\", \"such\", \"no\", \"nor\", \"not\", \"only\", \"own\", \"same\", \"so\", \"than\", \"too\", \"very\", \"s\", \"t\", \"can\", \"will\", \"just\", \"don\", \"should\", \"now\"]"
   ]
  },
  {
   "cell_type": "code",
   "execution_count": 70,
   "id": "mexican-trauma",
   "metadata": {},
   "outputs": [],
   "source": [
    "## Utils and Helper Class\n",
    "\n",
    "def tf(docs):\n",
    "    \"\"\"\n",
    "    This function is used to calculate the document-term matrix and id2word mapping\n",
    "    \"\"\"\n",
    "    # Clean up the text\n",
    "    docsc_clean = {}\n",
    "    total_term = []\n",
    "    for key, val in enumerate(docs):\n",
    "        val_clean = re.findall(r'[a-z]+', val.lower())\n",
    "        val_clean = [i for i in val_clean if i not in stop_words]\n",
    "        docsc_clean[f'd{key}'] = val_clean\n",
    "        total_term += val_clean\n",
    "\n",
    "    total_term_unique = sorted(set(total_term))\n",
    "    id2word = {idx: word for  idx, word in enumerate(total_term_unique)}\n",
    "\n",
    "    # Count the number of occurrences of term i in document j\n",
    "    for key, val in docsc_clean.items():\n",
    "        word_dir = dict.fromkeys(total_term_unique, 0)\n",
    "        for word in val:\n",
    "            word_dir[word] += 1\n",
    "        docsc_clean[key] = word_dir\n",
    "\n",
    "    tf_df = pd.DataFrame.from_dict(docsc_clean, orient='index')\n",
    "\n",
    "    return tf_df, id2word\n",
    "\n",
    "def dirichlet_expectation(sstats):\n",
    "    if len(sstats.shape) == 1:\n",
    "        return psi(sstats) - psi(np.sum(sstats))\n",
    "    else:\n",
    "        return psi(sstats) - psi(np.sum(sstats, 1))[:, np.newaxis]\n",
    "    \n",
    "    \n",
    "def chunks(lst, n):\n",
    "    \"\"\"Yield successive n-sized chunks from lst.\"\"\"\n",
    "    for i in range(0, len(lst), n):\n",
    "        yield lst[i:i + n]\n",
    "\n",
    "class LdaState:\n",
    "    def __init__(self, eta, shape, dtype=np.float32):\n",
    "        \"\"\"\n",
    "        Parameters\n",
    "        ----------\n",
    "        eta : numpy.ndarray\n",
    "            The prior probabilities assigned to each term.\n",
    "        shape : tuple of (int, int)\n",
    "            Shape of the sufficient statistics: (number of topics to be found, number of terms in the vocabulary).\n",
    "        dtype : type\n",
    "            Overrides the numpy array default types.\n",
    "\n",
    "        \"\"\"\n",
    "        self.eta = eta.astype(dtype, copy=False)\n",
    "        self.sstats = np.zeros(shape, dtype=dtype)\n",
    "        self.numdocs = 0\n",
    "        self.dtype = dtype\n",
    "\n",
    "    def get_lambda(self):\n",
    "        \"\"\"Get the parameters of the posterior over the topics, also referred to as \"the topics\".\n",
    "\n",
    "        Returns\n",
    "        -------\n",
    "        numpy.ndarray\n",
    "            Parameters of the posterior probability over topics.\n",
    "\n",
    "        \"\"\"\n",
    "        return self.eta + self.sstats\n",
    "\n",
    "    def get_Elogbeta(self):\n",
    "        \"\"\"Get the log (posterior) probabilities for each topic.\n",
    "\n",
    "        Returns\n",
    "        -------\n",
    "        numpy.ndarray\n",
    "            Posterior probabilities for each topic.\n",
    "        \"\"\"\n",
    "        return dirichlet_expectation(self.get_lambda())\n",
    "\n",
    "    def blend(self, rhot, other, targetsize=None):\n",
    "        \"\"\"Merge the current state with another one using a weighted average for the sufficient statistics.\n",
    "\n",
    "        The number of documents is stretched in both state objects, so that they are of comparable magnitude.\n",
    "        This procedure corresponds to the stochastic gradient update from\n",
    "        `Hoffman et al. :\"Online Learning for Latent Dirichlet Allocation\"\n",
    "        <https://www.di.ens.fr/~fbach/mdhnips2010.pdf>`_, see equations (5) and (9).\n",
    "\n",
    "        Parameters\n",
    "        ----------\n",
    "        rhot : float\n",
    "            Weight of the `other` state in the computed average. A value of 0.0 means that `other`\n",
    "            is completely ignored. A value of 1.0 means `self` is completely ignored.\n",
    "        other : :class:`~gensim.models.ldamodel.LdaState`\n",
    "            The state object with which the current one will be merged.\n",
    "        targetsize : int, optional\n",
    "            The number of documents to stretch both states to.\n",
    "\n",
    "        \"\"\"\n",
    "        assert other is not None\n",
    "        if targetsize is None:\n",
    "            targetsize = self.numdocs\n",
    "\n",
    "        # stretch the current model's expected n*phi counts to target size\n",
    "        if self.numdocs == 0 or targetsize == self.numdocs:\n",
    "            scale = 1.0\n",
    "        else:\n",
    "            scale = 1.0 * targetsize / self.numdocs\n",
    "        self.sstats *= (1.0 - rhot) * scale\n",
    "\n",
    "        # stretch the incoming n*phi counts to target size\n",
    "        if other.numdocs == 0 or targetsize == other.numdocs:\n",
    "            scale = 1.0\n",
    "        else:\n",
    "            scale = 1.0 * targetsize / other.numdocs\n",
    "        self.sstats += rhot * scale * other.sstats\n",
    "        self.numdocs = targetsize"
   ]
  },
  {
   "cell_type": "code",
   "execution_count": 71,
   "id": "adjustable-billy",
   "metadata": {},
   "outputs": [],
   "source": [
    "def my_lda_func(corpus, num_topics, id2word, random_state=10,  passes=1, num_words=10,\n",
    "                iterations=50, gamma_threshold=0.001, dtype=np.float32,  chunksize=100, topics_only=True, verbose=False):\n",
    "    num_terms = len(id2word)\n",
    "\n",
    "    alpha = np.array( [1.0 / num_topics for i in range(num_topics)], dtype=dtype)\n",
    "\n",
    "    eta = np.array( [1.0 / num_topics for i in range(num_terms)], dtype=dtype)\n",
    "\n",
    "    rand  = np.random.RandomState(random_state)\n",
    "\n",
    "    model_states = LdaState(eta, (num_topics, num_terms), dtype=dtype)\n",
    "    model_states.sstats = rand.gamma(100., 1. / 100., (num_topics, num_terms))\n",
    "\n",
    "    expElogbeta = np.exp(dirichlet_expectation(model_states.sstats))\n",
    "\n",
    "\n",
    "    # Update\n",
    "    lencorpus = len(corpus)\n",
    "    chunksize = min(lencorpus, chunksize)\n",
    "    model_states.numdocs += lencorpus\n",
    "    num_updates = 0\n",
    "\n",
    "    for pass_ in range(passes):\n",
    "        all_chunks = chunks(corpus, chunksize)\n",
    "        gamma_by_chunks = []\n",
    "        for chunk_no, chunk in enumerate(all_chunks):\n",
    "            other = LdaState(eta, (num_topics, num_terms), dtype=dtype)\n",
    "            # Do estep\n",
    "            if len(chunk) > 1:\n",
    "                if verbose:\n",
    "                    print(f'performing inference on a chunk of {len(chunk) } documents')\n",
    "            else:\n",
    "                raise\n",
    "\n",
    "            # Initialize the variational distribution q(theta|gamma) for the chunk\n",
    "            gamma = rand.gamma(100., 1. / 100., (len(chunk), num_topics)).astype(dtype, copy=False)\n",
    "            tmpElogtheta = dirichlet_expectation(gamma)\n",
    "            tmpexpElogtheta = np.exp(tmpElogtheta)\n",
    "            sstats = np.zeros_like(expElogbeta, dtype=dtype)\n",
    "            converged = 0\n",
    "\n",
    "            # Now, for each document d update that document's gamma and phi\n",
    "            epsilon = 1e-7\n",
    "\n",
    "            for d, doc in enumerate(chunk):\n",
    "                ids = [idx for idx, _ in doc]\n",
    "                cts = np.fromiter((cnt for _, cnt in doc), dtype=dtype, count=len(doc))\n",
    "                gammad = gamma[d, :]\n",
    "                Elogthetad = tmpElogtheta[d, :]\n",
    "                expElogthetad = tmpexpElogtheta[d, :]\n",
    "                expElogbetad = expElogbeta[:, ids]\n",
    "\n",
    "                # The optimal phi_{dwk} is proportional to expElogthetad_k * expElogbetad_w.\n",
    "                # phinorm is the normalizer.\n",
    "                phinorm = np.dot(expElogthetad, expElogbetad) + epsilon\n",
    "\n",
    "                for _ in range(iterations):\n",
    "                    lastgamma = gammad\n",
    "                    # We represent phi implicitly to save memory and time.\n",
    "                    # Substituting the value of the optimal phi back into\n",
    "                    # the update for gamma gives this update. Cf. Lee&Seung 2001.\n",
    "                    gammad = alpha + expElogthetad * np.dot(cts / phinorm, expElogbetad.T)\n",
    "                    Elogthetad = dirichlet_expectation(gammad)\n",
    "                    expElogthetad = np.exp(Elogthetad)\n",
    "                    phinorm = np.dot(expElogthetad, expElogbetad) + epsilon\n",
    "                    # If gamma hasn't changed much, we're done.\n",
    "                    meanchange = np.mean(np.abs(gammad - lastgamma))\n",
    "                    if meanchange < gamma_threshold:\n",
    "                        converged += 1\n",
    "                        break\n",
    "                gamma[d, :] = gammad\n",
    "                sstats[:, ids] += np.outer(expElogthetad.T, cts / phinorm)\n",
    "                gamma_by_chunks.append(gamma)\n",
    "\n",
    "            if len(chunk) > 1:\n",
    "                if verbose:\n",
    "                    print(f\"{converged}/{len(chunk)} documents converged within {iterations} iterations\")\n",
    "\n",
    "            sstats *= expElogbeta\n",
    "\n",
    "            other.sstats += sstats\n",
    "            other.numdocs += gamma.shape[0]\n",
    "\n",
    "            # Do mstep\n",
    "            if verbose:\n",
    "                print('Update topics')\n",
    "            previous_Elogbeta = model_states.get_Elogbeta()\n",
    "            rho = pow(1 + pass_ + (num_updates / chunksize), -0.5)\n",
    "            model_states.blend(rho, other)\n",
    "\n",
    "            current_Elogbeta = model_states.get_Elogbeta()\n",
    "            #Propagate the states topic probabilities to the inner object's attribute.\n",
    "            expElogbeta = np.exp(current_Elogbeta)\n",
    "\n",
    "            diff = np.mean(np.abs(previous_Elogbeta.ravel() - current_Elogbeta.ravel()))\n",
    "            if verbose:\n",
    "                print(f\"topic diff {diff}\")\n",
    "            num_updates += other.numdocs\n",
    "\n",
    "    shown = []\n",
    "    topic = model_states.get_lambda()\n",
    "\n",
    "    for i in range(num_topics):\n",
    "        topic_ = topic[i]\n",
    "        topic_ = topic_ / topic_.sum()  # normalize to probability distribution\n",
    "        bestn = topic_.argsort()[-num_words:][::-1]\n",
    "\n",
    "        topic_ = [(id2word[id], topic_[id]) for id in bestn]\n",
    "        topic_ = ' + '.join('%.3f*\"%s\"' % (v, k) for k, v in topic_)\n",
    "        shown.append((i, topic_))\n",
    "\n",
    "    if topics_only:\n",
    "        return shown\n",
    "    else:\n",
    "        return shown,gamma_by_chunks"
   ]
  },
  {
   "cell_type": "code",
   "execution_count": null,
   "id": "f377290a-fc8c-4d11-8e5c-3917bc69b4d8",
   "metadata": {},
   "outputs": [],
   "source": []
  },
  {
   "cell_type": "markdown",
   "id": "2e62b9e6-6023-44bf-843b-b330dee7e841",
   "metadata": {},
   "source": [
    "## For Carol: Small test data (d1 to d5)"
   ]
  },
  {
   "cell_type": "code",
   "execution_count": 42,
   "id": "d029104d-d494-4f51-954a-0db39df2bb56",
   "metadata": {},
   "outputs": [],
   "source": [
    "# Sample data for analysis\n",
    "d1 = \"Java is a language for programming that develops a software for several platforms. A compiled code or bytecode on Java application can run on most of the operating systems including Linux, Mac operating system, and Linux. Most of the syntax of Java is derived from the C++ and C languages.\"\n",
    "d2 = \"Python supports multiple programming paradigms and comes up with a large standard library, paradigms included are object-oriented, imperative, functional and procedural.\"\n",
    "d3 = \"Go is typed statically compiled language. It was created by Robert Griesemer, Ken Thompson, and Rob Pike in 2009. This language offers garbage collection, concurrency of CSP-style, memory safety, and structural typing.\"\n",
    "d4 = \"A young girl when she first visited magical Underland, Alice Kingsleigh (Mia Wasikowska) is now a teenager with no memory of the place -- except in her dreams.\"\n",
    "d5 = \"Her life takes a turn for the unexpected when, at a garden party for her fiance and herself, she spots a certain white rabbit and tumbles down a hole after him. Reunited with her friends the Mad Hatter (Johnny Depp), the Cheshire Cat and others, Alice learns it is her destiny to end the Red Queen's (Helena Bonham Carter) reign of terror.\""
   ]
  },
  {
   "cell_type": "code",
   "execution_count": 43,
   "id": "50b38d5b-8967-46cf-8d5d-f37ee1af4be9",
   "metadata": {},
   "outputs": [],
   "source": [
    "# Using slow version tf_df\n",
    "tf_df, id2word = tf([d1, d2, d3, d4, d5])\n",
    "\n",
    "lil = []\n",
    "for row in tf_df.values:\n",
    "    lil_sub = []\n",
    "    for idx, item in enumerate(row):\n",
    "        if item:\n",
    "            lil_sub.append((idx, item))\n",
    "    lil.append(lil_sub)\n",
    "    \n",
    "shown, gamma_by_chunks = my_lda_func(corpus=lil, num_topics=2, id2word=id2word, topics_only=False, num_words=10)"
   ]
  },
  {
   "cell_type": "code",
   "execution_count": 44,
   "id": "957295ba-a6e7-480f-86fe-9003ee733263",
   "metadata": {},
   "outputs": [
    {
     "data": {
      "text/plain": [
       "[(0,\n",
       "  '0.020*\"language\" + 0.017*\"alice\" + 0.016*\"memory\" + 0.014*\"compiled\" + 0.013*\"concurrency\" + 0.013*\"go\" + 0.013*\"safety\" + 0.013*\"griesemer\" + 0.013*\"collection\" + 0.013*\"csp\"'),\n",
       " (1,\n",
       "  '0.029*\"java\" + 0.021*\"operating\" + 0.021*\"paradigms\" + 0.021*\"linux\" + 0.021*\"c\" + 0.021*\"programming\" + 0.017*\"language\" + 0.014*\"compiled\" + 0.013*\"systems\" + 0.013*\"mac\"')]"
      ]
     },
     "execution_count": 44,
     "metadata": {},
     "output_type": "execute_result"
    }
   ],
   "source": [
    "shown"
   ]
  },
  {
   "cell_type": "code",
   "execution_count": 45,
   "id": "a253e2a5-4503-475f-bdc6-cce813af9a10",
   "metadata": {},
   "outputs": [
    {
     "data": {
      "text/plain": [
       "[array([[ 3.118508 , 24.881    ],\n",
       "        [ 2.168894 , 14.830803 ],\n",
       "        [20.468893 ,  3.5306888],\n",
       "        [ 7.332505 ,  8.667224 ],\n",
       "        [25.308207 ,  8.691179 ]], dtype=float32),\n",
       " array([[ 3.118508 , 24.881    ],\n",
       "        [ 2.168894 , 14.830803 ],\n",
       "        [20.468893 ,  3.5306888],\n",
       "        [ 7.332505 ,  8.667224 ],\n",
       "        [25.308207 ,  8.691179 ]], dtype=float32),\n",
       " array([[ 3.118508 , 24.881    ],\n",
       "        [ 2.168894 , 14.830803 ],\n",
       "        [20.468893 ,  3.5306888],\n",
       "        [ 7.332505 ,  8.667224 ],\n",
       "        [25.308207 ,  8.691179 ]], dtype=float32),\n",
       " array([[ 3.118508 , 24.881    ],\n",
       "        [ 2.168894 , 14.830803 ],\n",
       "        [20.468893 ,  3.5306888],\n",
       "        [ 7.332505 ,  8.667224 ],\n",
       "        [25.308207 ,  8.691179 ]], dtype=float32),\n",
       " array([[ 3.118508 , 24.881    ],\n",
       "        [ 2.168894 , 14.830803 ],\n",
       "        [20.468893 ,  3.5306888],\n",
       "        [ 7.332505 ,  8.667224 ],\n",
       "        [25.308207 ,  8.691179 ]], dtype=float32)]"
      ]
     },
     "execution_count": 45,
     "metadata": {},
     "output_type": "execute_result"
    }
   ],
   "source": [
    "gamma_by_chunks"
   ]
  },
  {
   "cell_type": "code",
   "execution_count": null,
   "id": "2e4b0ae6-62aa-460b-ba16-bf7d7e4c6dae",
   "metadata": {},
   "outputs": [],
   "source": []
  },
  {
   "cell_type": "markdown",
   "id": "c6d7f1e5-d93c-4616-90db-a7c49b616734",
   "metadata": {},
   "source": [
    "## Simulated data (Sleep & Politics)"
   ]
  },
  {
   "cell_type": "code",
   "execution_count": 23,
   "id": "fa7c7a45-6549-4119-823f-f6e733ac58fa",
   "metadata": {},
   "outputs": [],
   "source": [
    "sleep = pd.read_csv('sleep_diet_exercise.csv', header=None)"
   ]
  },
  {
   "cell_type": "code",
   "execution_count": 24,
   "id": "c1627ef9-4b72-4159-816b-09eec71ceb05",
   "metadata": {},
   "outputs": [
    {
     "data": {
      "text/plain": [
       "30"
      ]
     },
     "execution_count": 24,
     "metadata": {},
     "output_type": "execute_result"
    }
   ],
   "source": [
    "docs = [i[0] for i in sleep.values]\n",
    "len(docs)"
   ]
  },
  {
   "cell_type": "code",
   "execution_count": 41,
   "id": "f20e1f76-ad82-4b9d-88b1-2c567e1d45d7",
   "metadata": {},
   "outputs": [
    {
     "data": {
      "text/plain": [
       "[(0,\n",
       "  '0.069*\"sleep\" + 0.018*\"exercise\" + 0.009*\"health\" + 0.008*\"studies\" + 0.008*\"quality\" + 0.007*\"adults\" + 0.007*\"disruption\" + 0.007*\"insomnia\" + 0.006*\"activity\" + 0.006*\"poor\"'),\n",
       " (1,\n",
       "  '0.009*\"biden\" + 0.008*\"physical\" + 0.008*\"exercise\" + 0.007*\"found\" + 0.006*\"daytime\" + 0.006*\"osa\" + 0.006*\"pandemic\" + 0.006*\"activity\" + 0.005*\"change\" + 0.005*\"treatment\"')]"
      ]
     },
     "execution_count": 41,
     "metadata": {},
     "output_type": "execute_result"
    }
   ],
   "source": [
    "tf_df, id2word = tf(docs)\n",
    "\n",
    "lil = []\n",
    "for row in tf_df.values:\n",
    "    lil_sub = []\n",
    "    for idx, item in enumerate(row):\n",
    "        if item:\n",
    "            lil_sub.append((idx, item))\n",
    "    lil.append(lil_sub)\n",
    "    \n",
    "my_lda_func(corpus=lil, num_topics=2, id2word=id2word, num_words=10, chunksize=2, passes=4)"
   ]
  },
  {
   "cell_type": "code",
   "execution_count": null,
   "id": "fc53f296-c385-42f4-be0d-f2e628368bb0",
   "metadata": {},
   "outputs": [],
   "source": []
  },
  {
   "cell_type": "markdown",
   "id": "d54c0a5e-eedf-41a7-8778-58f7a38f9b85",
   "metadata": {},
   "source": [
    "## For Yingyu: Data Used by Paper"
   ]
  },
  {
   "cell_type": "code",
   "execution_count": 65,
   "id": "f1e15418-227d-4b64-93b4-3ec46e711a09",
   "metadata": {},
   "outputs": [],
   "source": [
    "np.random.seed(1)\n",
    "ntotal=1000\n",
    "documents = reuters.fileids()\n",
    "documents=np.random.choice(documents,ntotal)\n",
    "docs=[reuters.raw(d) for d in documents]"
   ]
  },
  {
   "cell_type": "code",
   "execution_count": 66,
   "id": "c691b998-6b1b-4815-8fc9-60fc09188616",
   "metadata": {},
   "outputs": [
    {
     "data": {
      "text/plain": [
       "1000"
      ]
     },
     "execution_count": 66,
     "metadata": {},
     "output_type": "execute_result"
    }
   ],
   "source": [
    "len(docs)"
   ]
  },
  {
   "cell_type": "code",
   "execution_count": 72,
   "id": "d6e862ea-74b2-43dc-b7a0-b12c7f5208b8",
   "metadata": {},
   "outputs": [],
   "source": [
    "tf_df, id2word = tf(docs)"
   ]
  },
  {
   "cell_type": "code",
   "execution_count": 80,
   "id": "100bafb5-cc3d-418a-be20-e1a77801619b",
   "metadata": {},
   "outputs": [
    {
     "data": {
      "text/plain": [
       "[(0,\n",
       "  '0.015*\"tonnes\" + 0.010*\"trade\" + 0.009*\"japan\" + 0.007*\"ec\" + 0.006*\"countries\" + 0.006*\"department\" + 0.006*\"official\" + 0.005*\"sugar\" + 0.005*\"production\" + 0.005*\"states\"'),\n",
       " (1,\n",
       "  '0.031*\"lt\" + 0.017*\"dlrs\" + 0.016*\"company\" + 0.014*\"corp\" + 0.014*\"shares\" + 0.013*\"inc\" + 0.011*\"offer\" + 0.010*\"pct\" + 0.010*\"stock\" + 0.010*\"share\"'),\n",
       " (2,\n",
       "  '0.082*\"vs\" + 0.076*\"mln\" + 0.048*\"cts\" + 0.041*\"net\" + 0.038*\"dlrs\" + 0.029*\"loss\" + 0.025*\"shr\" + 0.022*\"lt\" + 0.019*\"profit\" + 0.017*\"year\"'),\n",
       " (3,\n",
       "  '0.034*\"pct\" + 0.028*\"mln\" + 0.027*\"year\" + 0.021*\"billion\" + 0.016*\"dlrs\" + 0.015*\"oil\" + 0.011*\"last\" + 0.011*\"february\" + 0.008*\"january\" + 0.007*\"quarter\"'),\n",
       " (4,\n",
       "  '0.013*\"bank\" + 0.011*\"market\" + 0.010*\"new\" + 0.009*\"rate\" + 0.009*\"rates\" + 0.009*\"dollar\" + 0.007*\"one\" + 0.006*\"meeting\" + 0.006*\"pct\" + 0.006*\"exchange\"')]"
      ]
     },
     "execution_count": 80,
     "metadata": {},
     "output_type": "execute_result"
    }
   ],
   "source": [
    "lil = []\n",
    "for row in tf_df.values:\n",
    "    lil_sub = []\n",
    "    for idx, item in enumerate(row):\n",
    "        if item:\n",
    "            lil_sub.append((idx, item))\n",
    "    lil.append(lil_sub)\n",
    "    \n",
    "my_lda_func(corpus=lil, num_topics=5, id2word=id2word, num_words=10, chunksize=20, passes=10)"
   ]
  },
  {
   "cell_type": "code",
   "execution_count": null,
   "id": "21fb3091-2ce0-46b0-a625-8745971b2364",
   "metadata": {},
   "outputs": [],
   "source": []
  },
  {
   "cell_type": "markdown",
   "id": "31adfbcf-8972-4e85-8f49-de6c9cc41696",
   "metadata": {},
   "source": [
    "## For Melody: Real world data (from Tweet)"
   ]
  },
  {
   "cell_type": "code",
   "execution_count": 81,
   "id": "06aee7de-850b-4d6c-b37c-bb92c427e15c",
   "metadata": {},
   "outputs": [
    {
     "data": {
      "text/plain": [
       "6000"
      ]
     },
     "execution_count": 81,
     "metadata": {},
     "output_type": "execute_result"
    }
   ],
   "source": [
    "# Real world sample data\n",
    "raw_tweets = pd.read_csv('clean_tweets.csv')\n",
    "\n",
    "tweets_list = raw_tweets.Tweets.values.tolist()\n",
    "\n",
    "# Turn the list of string into a list of tokens\n",
    "clean_tweets = [t.split(',') for t in tweets_list]\n",
    "\n",
    "len(clean_tweets)"
   ]
  },
  {
   "cell_type": "code",
   "execution_count": 82,
   "id": "483beacd-5ef9-4ec2-a5be-f26f655e6f85",
   "metadata": {},
   "outputs": [],
   "source": [
    "id2word = Dictionary(clean_tweets)\n",
    "# Term Document Frequency\n",
    "corpus = [id2word.doc2bow(text) for text in clean_tweets]"
   ]
  },
  {
   "cell_type": "code",
   "execution_count": 84,
   "id": "37670e38-a703-4017-9cc9-ea6ec036f8f7",
   "metadata": {},
   "outputs": [
    {
     "name": "stdout",
     "output_type": "stream",
     "text": [
      "[(0,\n",
      "  '0.081*\"follow\" + 0.073*\"check\" + 0.046*\"automatically\" + 0.038*\"people\" + '\n",
      "  '0.029*\"unfollowed\" + 0.026*\"person\" + 0.019*\"follower\" + 0.008*\"unfollower\" '\n",
      "  '+ 0.008*\"wind\" + 0.008*\"mph\"'),\n",
      " (1,\n",
      "  '0.015*\"trump\" + 0.009*\"people\" + 0.009*\"say\" + 0.007*\"think\" + 0.006*\"know\" '\n",
      "  '+ 0.005*\"need\" + 0.005*\"right\" + 0.005*\"woman\" + 0.004*\"vote\" + 0.004*\"go\"'),\n",
      " (2,\n",
      "  '0.013*\"good\" + 0.011*\"go\" + 0.010*\"love\" + 0.010*\"day\" + 0.009*\"time\" + '\n",
      "  '0.009*\"thank\" + 0.008*\"think\" + 0.008*\"look\" + 0.008*\"year\" + 0.007*\"know\"'),\n",
      " (3,\n",
      "  '0.016*\"thank\" + 0.014*\"new\" + 0.012*\"great\" + 0.008*\"how\" + 0.007*\"work\" + '\n",
      "  '0.006*\"late\" + 0.005*\"help\" + 0.005*\"learn\" + 0.005*\"look\" + 0.004*\"good\"'),\n",
      " (4,\n",
      "  '0.125*\"more\" + 0.037*\"today\" + 0.036*\"video\" + 0.034*\"like\" + '\n",
      "  '0.016*\"cancer\" + 0.012*\"arie\" + 0.009*\"pisce\" + 0.009*\"aquarius\" + '\n",
      "  '0.006*\"capricorn\" + 0.006*\"feel\"')]\n"
     ]
    }
   ],
   "source": [
    "pprint(my_lda_func(corpus=corpus, num_topics=5, id2word=id2word, num_words=10, chunksize=100, passes=10))"
   ]
  },
  {
   "cell_type": "code",
   "execution_count": null,
   "id": "86bb8983-73d5-4201-adb4-e9759e31cf7b",
   "metadata": {},
   "outputs": [],
   "source": []
  },
  {
   "cell_type": "code",
   "execution_count": null,
   "id": "574da618-2cbe-4865-9ea4-ecf137a94806",
   "metadata": {},
   "outputs": [],
   "source": []
  },
  {
   "cell_type": "markdown",
   "id": "ee53cdac-76d1-4fa3-b6d1-7259e80cbd7f",
   "metadata": {},
   "source": [
    "## Compare with Gensim"
   ]
  },
  {
   "cell_type": "code",
   "execution_count": 13,
   "id": "2e749f37-22f3-4cd8-b0c1-7188afaf71c8",
   "metadata": {},
   "outputs": [],
   "source": [
    "from gensim.models import LdaModel"
   ]
  },
  {
   "cell_type": "code",
   "execution_count": 14,
   "id": "374560b2-0688-43cc-a91e-e37e0586f730",
   "metadata": {},
   "outputs": [],
   "source": [
    "lda_model = LdaModel(corpus=corpus,\n",
    "                   id2word=id2word,\n",
    "                   num_topics=10, \n",
    "                   random_state=10,\n",
    "                   chunksize=100,\n",
    "#                    alpha='auto',\n",
    "#                    per_word_topics=True\n",
    "                    )"
   ]
  },
  {
   "cell_type": "code",
   "execution_count": 15,
   "id": "1c914864-5ece-43a6-87b2-6de324b4d1f4",
   "metadata": {},
   "outputs": [
    {
     "name": "stdout",
     "output_type": "stream",
     "text": [
      "[(0,\n",
      "  '0.021*\"portfolio\" + 0.013*\"employment\" + 0.010*\"nursing\" + 0.009*\"repair\" + '\n",
      "  '0.008*\"prevention\" + 0.008*\"command\" + 0.008*\"consultation\" + '\n",
      "  '0.007*\"terminal\" + 0.007*\"briefly\" + 0.007*\"shall\"'),\n",
      " (1,\n",
      "  '0.029*\"trump\" + 0.011*\"say\" + 0.009*\"vote\" + 0.007*\"country\" + 0.006*\"ban\" '\n",
      "  '+ 0.006*\"people\" + 0.006*\"order\" + 0.006*\"need\" + 0.005*\"state\" + '\n",
      "  '0.005*\"right\"'),\n",
      " (2,\n",
      "  '0.021*\"thank\" + 0.018*\"great\" + 0.016*\"good\" + 0.012*\"look\" + 0.010*\"year\" '\n",
      "  '+ 0.009*\"today\" + 0.009*\"time\" + 0.009*\"day\" + 0.009*\"love\" + 0.008*\"new\"'),\n",
      " (3,\n",
      "  '0.013*\"new\" + 0.010*\"how\" + 0.007*\"work\" + 0.006*\"learn\" + 0.006*\"great\" + '\n",
      "  '0.006*\"change\" + 0.006*\"need\" + 0.005*\"business\" + 0.005*\"help\" + '\n",
      "  '0.005*\"social\"'),\n",
      " (4,\n",
      "  '0.007*\"cove\" + 0.000*\"killing\" + 0.000*\"peggys\" + 0.000*\"lagoon\" + '\n",
      "  '0.000*\"infamous\" + 0.000*\"fate\" + 0.000*\"await\" + 0.000*\"creek\" + '\n",
      "  '0.000*\"maiden\" + 0.000*\"roaster\"'),\n",
      " (5,\n",
      "  '0.157*\"more\" + 0.053*\"today\" + 0.018*\"cancer\" + 0.017*\"pisce\" + '\n",
      "  '0.013*\"capricorn\" + 0.012*\"aquarius\" + 0.011*\"arie\" + 0.008*\"feel\" + '\n",
      "  '0.006*\"day\" + 0.006*\"gemini\"'),\n",
      " (6,\n",
      "  '0.016*\"love\" + 0.016*\"day\" + 0.016*\"go\" + 0.011*\"good\" + 0.010*\"time\" + '\n",
      "  '0.009*\"know\" + 0.008*\"feel\" + 0.008*\"today\" + 0.008*\"work\" + 0.008*\"happy\"'),\n",
      " (7,\n",
      "  '0.112*\"video\" + 0.093*\"like\" + 0.078*\"follow\" + 0.067*\"check\" + '\n",
      "  '0.042*\"thank\" + 0.036*\"late\" + 0.033*\"people\" + 0.030*\"automatically\" + '\n",
      "  '0.028*\"new\" + 0.021*\"unfollowed\"'),\n",
      " (8,\n",
      "  '0.069*\"enter\" + 0.016*\"prize\" + 0.011*\"brick\" + 0.010*\"offense\" + '\n",
      "  '0.010*\"lunar\" + 0.009*\"win\" + 0.008*\"instantly\" + 0.007*\"pack\" + '\n",
      "  '0.007*\"sweepstake\" + 0.004*\"gadget\"'),\n",
      " (9,\n",
      "  '0.016*\"think\" + 0.012*\"people\" + 0.012*\"know\" + 0.010*\"good\" + 0.009*\"go\" + '\n",
      "  '0.008*\"thing\" + 0.007*\"time\" + 0.007*\"need\" + 0.006*\"say\" + 0.006*\"right\"')]\n"
     ]
    }
   ],
   "source": [
    "pprint(lda_model.print_topics())"
   ]
  },
  {
   "cell_type": "code",
   "execution_count": null,
   "id": "abfea8b7-1b0b-40f3-ac72-ca2b47d1b3bc",
   "metadata": {},
   "outputs": [],
   "source": []
  }
 ],
 "metadata": {
  "kernelspec": {
   "display_name": "Python 3",
   "language": "python",
   "name": "python3"
  },
  "language_info": {
   "codemirror_mode": {
    "name": "ipython",
    "version": 3
   },
   "file_extension": ".py",
   "mimetype": "text/x-python",
   "name": "python",
   "nbconvert_exporter": "python",
   "pygments_lexer": "ipython3",
   "version": "3.8.8"
  }
 },
 "nbformat": 4,
 "nbformat_minor": 5
}
