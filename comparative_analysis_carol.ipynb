{
 "cells": [
  {
   "cell_type": "code",
   "execution_count": 14,
   "id": "whole-frost",
   "metadata": {},
   "outputs": [],
   "source": [
    "from my_lda_func import *"
   ]
  },
  {
   "cell_type": "code",
   "execution_count": 45,
   "id": "whole-verification",
   "metadata": {},
   "outputs": [],
   "source": [
    "# Sample data for analysis\n",
    "d1 = \"Java is a language for programming that develops a software for several platforms. A compiled code or bytecode on Java application can run on most of the operating systems including Linux, Mac operating system, and Linux. Most of the syntax of Java is derived from the C++ and C languages.\"\n",
    "d2 = \"Python supports multiple programming paradigms and comes up with a large standard library, paradigms included are object-oriented, imperative, functional and procedural.\"\n",
    "d3 = \"Go is typed statically compiled language. It was created by Robert Griesemer, Ken Thompson, and Rob Pike in 2009. This language offers garbage collection, concurrency of CSP-style, memory safety, and structural typing.\"\n",
    "d4 = \"A young girl when she first visited magical Underland, Alice Kingsleigh (Mia Wasikowska) is now a teenager with no memory of the place -- except in her dreams.\"\n",
    "d5 = \"Her life takes a turn for the unexpected when, at a garden party for her fiance and herself, she spots a certain white rabbit and tumbles down a hole after him. Reunited with her friends the Mad Hatter (Johnny Depp), the Cheshire Cat and others, Alice learns it is her destiny to end the Red Queen's (Helena Bonham Carter) reign of terror.\"\n",
    "docs=[d1,d2,d3,d4,d5]*10\n",
    "labels=np.array([1,1,1,0,0]*10)\n",
    "tf_df, id2word = tf(docs)\n",
    "lil = []\n",
    "# for row in tf_df.T.values:\n",
    "for row in tf_df.values:\n",
    "    lil_sub = []\n",
    "    for idx, item in enumerate(row):\n",
    "        if item:\n",
    "            lil_sub.append((idx, item))\n",
    "    lil.append(lil_sub)"
   ]
  },
  {
   "cell_type": "code",
   "execution_count": 39,
   "id": "present-board",
   "metadata": {},
   "outputs": [
    {
     "name": "stdout",
     "output_type": "stream",
     "text": [
      "performing inference on a chunk of 50 documents\n",
      "0/50 documents converged within 50 iterations\n",
      "Update topics\n",
      "topic diff 0.45876706655499866\n"
     ]
    }
   ],
   "source": [
    "res_lda1=my_lda_func(corpus=lil, num_topics=2, id2word=id2word, num_words=5,topics_only=False,passes=1)[1]"
   ]
  },
  {
   "cell_type": "code",
   "execution_count": 40,
   "id": "judicial-juvenile",
   "metadata": {},
   "outputs": [
    {
     "name": "stderr",
     "output_type": "stream",
     "text": [
      "/home/jovyan/work/lda_project/lda_class_carol.py:155: UserWarning: Newton-Raphson has not converged. Try more iterations.\n",
      "  warn('Newton-Raphson has not converged. Try more iterations.')\n"
     ]
    }
   ],
   "source": [
    "import lda_class_carol\n",
    "b=lda_class_carol.LDA2(docs)\n",
    "res_lda2=b.lda(2,5,conv_threshold=1e-2,max_iter=100,niter=10)\n",
    "res_lda2=np.array(b.gamma)"
   ]
  },
  {
   "cell_type": "code",
   "execution_count": 41,
   "id": "organized-mambo",
   "metadata": {},
   "outputs": [],
   "source": [
    "from plsa import Corpus, Pipeline, Visualize\n",
    "from plsa.algorithms import PLSA\n",
    "from plsa.pipeline import DEFAULT_PIPELINE\n",
    "pipeline = Pipeline(*DEFAULT_PIPELINE)\n",
    "corpus_plsa=Corpus(docs,pipeline)\n",
    "plsa=PLSA(corpus_plsa, 2, True)\n",
    "result = plsa.fit()\n",
    "result = plsa.best_of(5)\n",
    "res_plsa=result.topic_given_doc"
   ]
  },
  {
   "cell_type": "code",
   "execution_count": 58,
   "id": "compatible-service",
   "metadata": {},
   "outputs": [
    {
     "data": {
      "text/plain": [
       "(50, 321)"
      ]
     },
     "execution_count": 58,
     "metadata": {},
     "output_type": "execute_result"
    }
   ],
   "source": [
    "# ngram\n",
    "# see https://scikit-learn.org/stable/modules/feature_extraction.html\n",
    "from sklearn.feature_extraction.text import CountVectorizer\n",
    "vectorizer = CountVectorizer()\n",
    "vectorizer.fit_transform(docs)\n",
    "analyze = vectorizer.build_analyzer()\n",
    "bigram_vectorizer = CountVectorizer(ngram_range=(1, 2),token_pattern=r'\\b\\w+\\b', min_df=1)\n",
    "analyze = bigram_vectorizer.build_analyzer()\n",
    "res_bigram=bigram_vectorizer.fit_transform(docs).toarray()"
   ]
  },
  {
   "cell_type": "code",
   "execution_count": 42,
   "id": "differential-crystal",
   "metadata": {},
   "outputs": [],
   "source": [
    "#SVM"
   ]
  },
  {
   "cell_type": "code",
   "execution_count": 43,
   "id": "knowing-flower",
   "metadata": {},
   "outputs": [],
   "source": [
    "from sklearn import svm\n",
    "from sklearn.model_selection import train_test_split, GridSearchCV\n",
    "import matplotlib.pyplot as plt"
   ]
  },
  {
   "cell_type": "code",
   "execution_count": 63,
   "id": "suspected-burke",
   "metadata": {},
   "outputs": [
    {
     "name": "stdout",
     "output_type": "stream",
     "text": [
      "Accuracy of plsa: 100.0%\n",
      "Accuracy of lda1: 90.0%\n",
      "Accuracy of lda2: 50.0%\n",
      "Accuracy of bigram: 100.0%\n"
     ]
    }
   ],
   "source": [
    "methods='plsa,lda1,lda2,bigram'.split(',')\n",
    "for i,x in enumerate([res_plsa,res_lda1,res_lda2,res_bigram]):\n",
    "    X_train, X_test, y_train, y_test = train_test_split(x, labels, test_size = 0.2, random_state=0)\n",
    "    clf = svm.SVC(kernel='linear')\n",
    "    clf.fit(X_train, y_train)\n",
    "    clf_predictions = clf.predict(X_test)\n",
    "    print(\"Accuracy of {}: {}%\".format(methods[i],clf.score(X_test, y_test) * 100 ))"
   ]
  },
  {
   "cell_type": "code",
   "execution_count": null,
   "id": "spiritual-precipitation",
   "metadata": {},
   "outputs": [],
   "source": []
  }
 ],
 "metadata": {
  "kernelspec": {
   "display_name": "Python 3",
   "language": "python",
   "name": "python3"
  },
  "language_info": {
   "codemirror_mode": {
    "name": "ipython",
    "version": 3
   },
   "file_extension": ".py",
   "mimetype": "text/x-python",
   "name": "python",
   "nbconvert_exporter": "python",
   "pygments_lexer": "ipython3",
   "version": "3.7.9"
  }
 },
 "nbformat": 4,
 "nbformat_minor": 5
}
