{
 "cells": [
  {
   "cell_type": "code",
   "execution_count": 7,
   "id": "respective-swaziland",
   "metadata": {},
   "outputs": [],
   "source": [
    "from my_lda_func_V3 import *\n",
    "import nltk\n",
    "from nltk.corpus import reuters\n",
    "import lda_class_carol\n",
    "from plsa import Corpus, Pipeline, Visualize\n",
    "from plsa.algorithms import PLSA\n",
    "from plsa.pipeline import DEFAULT_PIPELINE"
   ]
  },
  {
   "cell_type": "code",
   "execution_count": 8,
   "id": "preceding-drilling",
   "metadata": {},
   "outputs": [
    {
     "name": "stderr",
     "output_type": "stream",
     "text": [
      "[nltk_data] Downloading package reuters to /home/jovyan/nltk_data...\n",
      "[nltk_data]   Package reuters is already up-to-date!\n"
     ]
    },
    {
     "data": {
      "text/plain": [
       "True"
      ]
     },
     "execution_count": 8,
     "metadata": {},
     "output_type": "execute_result"
    }
   ],
   "source": [
    "nltk.download('reuters')"
   ]
  },
  {
   "cell_type": "code",
   "execution_count": 9,
   "id": "disturbed-railway",
   "metadata": {},
   "outputs": [],
   "source": [
    "np.random.seed(1)\n",
    "ntotal=1000\n",
    "num_topics=5\n",
    "documents = reuters.fileids()\n",
    "documents=np.random.choice(documents,ntotal)\n",
    "docs=[reuters.raw(d) for d in documents]\n",
    "labels1=[('earn' in reuters.categories(d)) for d in documents]\n",
    "tf_df, id2word = tf(docs)\n"
   ]
  },
  {
   "cell_type": "code",
   "execution_count": 27,
   "id": "gorgeous-quest",
   "metadata": {},
   "outputs": [
    {
     "data": {
      "text/plain": [
       "<function BufferedWriter.close>"
      ]
     },
     "execution_count": 27,
     "metadata": {},
     "output_type": "execute_result"
    }
   ],
   "source": [
    "lil = []\n",
    "for row in tf_df.values:\n",
    "    lil_sub = []\n",
    "    for idx, item in enumerate(row):\n",
    "        if item:\n",
    "            lil_sub.append((idx, item))\n",
    "    lil.append(lil_sub)\n",
    "gamma_chunk=my_lda_func(corpus=lil, num_topics=num_topics, id2word=id2word, topics_only=False,chunksize=100)[1]\n",
    "res_lda1=np.concatenate([gamma_chunk[i] for i in np.arange(0,ntotal,100)])\n",
    "file = open(\"results/res_lda1_\"+str(num_topics), \"wb\")\n",
    "np.save(file, res_lda1)\n",
    "file.close"
   ]
  },
  {
   "cell_type": "code",
   "execution_count": 30,
   "id": "chemical-grain",
   "metadata": {},
   "outputs": [],
   "source": [
    "# already saved\n",
    "# b=lda_class_carol.LDA2(docs)\n",
    "# res_lda2=b.lda(num_topics=num_topics,conv_threshold=1e-2,max_iter=100,npass=1)\n",
    "# res_lda2=np.array(b.gamma)\n",
    "# file = open(\"results/res_lda2_\"+str(num_topics), \"wb\")\n",
    "# np.save(file, res_lda2)\n",
    "# file.close"
   ]
  },
  {
   "cell_type": "code",
   "execution_count": 36,
   "id": "inclusive-estate",
   "metadata": {},
   "outputs": [
    {
     "data": {
      "text/plain": [
       "<function BufferedWriter.close>"
      ]
     },
     "execution_count": 36,
     "metadata": {},
     "output_type": "execute_result"
    }
   ],
   "source": [
    "# already saved\n",
    "# pipeline = Pipeline(*DEFAULT_PIPELINE)\n",
    "# corpus_plsa=Corpus(docs,pipeline)\n",
    "# plsa=PLSA(corpus_plsa, num_topics, True)\n",
    "# result = plsa.fit()\n",
    "# res_plsa=result.topic_given_doc\n",
    "# file = open(\"results/res_plsa_\"+str(num_topics), \"wb\")\n",
    "# np.save(file, res_plsa)\n",
    "# file.close"
   ]
  },
  {
   "cell_type": "code",
   "execution_count": 38,
   "id": "right-daniel",
   "metadata": {},
   "outputs": [
    {
     "data": {
      "text/plain": [
       "<function BufferedWriter.close>"
      ]
     },
     "execution_count": 38,
     "metadata": {},
     "output_type": "execute_result"
    }
   ],
   "source": [
    "# already saved\n",
    "# %%timeit -n 1 -r 1\n",
    "# bigram\n",
    "# see https://scikit-learn.org/stable/modules/feature_extraction.html\n",
    "# from sklearn.feature_extraction.text import CountVectorizer\n",
    "# vectorizer = CountVectorizer()\n",
    "# vectorizer.fit_transform(docs)\n",
    "# analyze = vectorizer.build_analyzer()\n",
    "# bigram_vectorizer = CountVectorizer(ngram_range=(1, 2),token_pattern=r'\\b\\w+\\b', min_df=1)\n",
    "# analyze = bigram_vectorizer.build_analyzer()\n",
    "# res_bigram=bigram_vectorizer.fit_transform(docs).toarray()\n",
    "# file = open(\"results/res_bigram_\"+str(num_topics), \"wb\")\n",
    "# np.save(file, res_bigram)\n",
    "# file.close"
   ]
  },
  {
   "cell_type": "code",
   "execution_count": 39,
   "id": "biological-arctic",
   "metadata": {},
   "outputs": [],
   "source": [
    "#SVM"
   ]
  },
  {
   "cell_type": "code",
   "execution_count": 10,
   "id": "great-public",
   "metadata": {},
   "outputs": [],
   "source": [
    "from sklearn import svm\n",
    "from sklearn.model_selection import train_test_split, GridSearchCV\n",
    "import matplotlib.pyplot as plt"
   ]
  },
  {
   "cell_type": "code",
   "execution_count": 14,
   "id": "concrete-zoning",
   "metadata": {},
   "outputs": [
    {
     "data": {
      "text/plain": [
       "<function BufferedReader.close>"
      ]
     },
     "execution_count": 14,
     "metadata": {},
     "output_type": "execute_result"
    }
   ],
   "source": [
    "file = open(\"results/res_plsa_\"+str(num_topics), \"rb\")\n",
    "res_plsa=np.load(file)\n",
    "file.close\n",
    "file = open(\"results/res_lda1_\"+str(num_topics), \"rb\")\n",
    "res_lda1=np.load(file)\n",
    "file.close\n",
    "file = open(\"results/res_lda2_\"+str(num_topics), \"rb\")\n",
    "res_lda2=np.load(file)\n",
    "file.close\n",
    "file = open(\"results/res_bigram_\"+str(num_topics), \"rb\")\n",
    "res_bigram=np.load(file)\n",
    "file.close"
   ]
  },
  {
   "cell_type": "code",
   "execution_count": 15,
   "id": "mineral-concentration",
   "metadata": {},
   "outputs": [
    {
     "name": "stdout",
     "output_type": "stream",
     "text": [
      "0 0\n"
     ]
    },
    {
     "ename": "KeyboardInterrupt",
     "evalue": "",
     "output_type": "error",
     "traceback": [
      "\u001b[0;31m\u001b[0m",
      "\u001b[0;31mKeyboardInterrupt\u001b[0mTraceback (most recent call last)",
      "\u001b[0;32m<ipython-input-15-0066d7c8a1f6>\u001b[0m in \u001b[0;36m<module>\u001b[0;34m\u001b[0m\n\u001b[1;32m     11\u001b[0m             \u001b[0mclf\u001b[0m \u001b[0;34m=\u001b[0m \u001b[0msvm\u001b[0m\u001b[0;34m.\u001b[0m\u001b[0mSVC\u001b[0m\u001b[0;34m(\u001b[0m\u001b[0mkernel\u001b[0m\u001b[0;34m=\u001b[0m\u001b[0;34m'linear'\u001b[0m\u001b[0;34m)\u001b[0m\u001b[0;34m\u001b[0m\u001b[0;34m\u001b[0m\u001b[0m\n\u001b[1;32m     12\u001b[0m             \u001b[0mclf\u001b[0m\u001b[0;34m.\u001b[0m\u001b[0mfit\u001b[0m\u001b[0;34m(\u001b[0m\u001b[0mX_train\u001b[0m\u001b[0;34m,\u001b[0m \u001b[0my_train\u001b[0m\u001b[0;34m)\u001b[0m\u001b[0;34m\u001b[0m\u001b[0;34m\u001b[0m\u001b[0m\n\u001b[0;32m---> 13\u001b[0;31m             \u001b[0mclf_predictions\u001b[0m \u001b[0;34m=\u001b[0m \u001b[0mclf\u001b[0m\u001b[0;34m.\u001b[0m\u001b[0mpredict\u001b[0m\u001b[0;34m(\u001b[0m\u001b[0mX_test\u001b[0m\u001b[0;34m)\u001b[0m\u001b[0;34m\u001b[0m\u001b[0;34m\u001b[0m\u001b[0m\n\u001b[0m\u001b[1;32m     14\u001b[0m             \u001b[0macc\u001b[0m\u001b[0;34m[\u001b[0m\u001b[0mj\u001b[0m\u001b[0;34m,\u001b[0m\u001b[0mi\u001b[0m\u001b[0;34m]\u001b[0m\u001b[0;34m=\u001b[0m\u001b[0mclf\u001b[0m\u001b[0;34m.\u001b[0m\u001b[0mscore\u001b[0m\u001b[0;34m(\u001b[0m\u001b[0mX_test\u001b[0m\u001b[0;34m,\u001b[0m \u001b[0my_test\u001b[0m\u001b[0;34m)\u001b[0m\u001b[0;34m\u001b[0m\u001b[0;34m\u001b[0m\u001b[0m\n\u001b[1;32m     15\u001b[0m             \u001b[0;31m#print(\"Accuracy of {}: {}%\".format(p,acc[j,i] * 100))\u001b[0m\u001b[0;34m\u001b[0m\u001b[0;34m\u001b[0m\u001b[0;34m\u001b[0m\u001b[0m\n",
      "\u001b[0;32m/opt/conda/lib/python3.7/site-packages/sklearn/svm/_base.py\u001b[0m in \u001b[0;36mpredict\u001b[0;34m(self, X)\u001b[0m\n\u001b[1;32m    622\u001b[0m             \u001b[0my\u001b[0m \u001b[0;34m=\u001b[0m \u001b[0mnp\u001b[0m\u001b[0;34m.\u001b[0m\u001b[0margmax\u001b[0m\u001b[0;34m(\u001b[0m\u001b[0mself\u001b[0m\u001b[0;34m.\u001b[0m\u001b[0mdecision_function\u001b[0m\u001b[0;34m(\u001b[0m\u001b[0mX\u001b[0m\u001b[0;34m)\u001b[0m\u001b[0;34m,\u001b[0m \u001b[0maxis\u001b[0m\u001b[0;34m=\u001b[0m\u001b[0;36m1\u001b[0m\u001b[0;34m)\u001b[0m\u001b[0;34m\u001b[0m\u001b[0;34m\u001b[0m\u001b[0m\n\u001b[1;32m    623\u001b[0m         \u001b[0;32melse\u001b[0m\u001b[0;34m:\u001b[0m\u001b[0;34m\u001b[0m\u001b[0;34m\u001b[0m\u001b[0m\n\u001b[0;32m--> 624\u001b[0;31m             \u001b[0my\u001b[0m \u001b[0;34m=\u001b[0m \u001b[0msuper\u001b[0m\u001b[0;34m(\u001b[0m\u001b[0;34m)\u001b[0m\u001b[0;34m.\u001b[0m\u001b[0mpredict\u001b[0m\u001b[0;34m(\u001b[0m\u001b[0mX\u001b[0m\u001b[0;34m)\u001b[0m\u001b[0;34m\u001b[0m\u001b[0;34m\u001b[0m\u001b[0m\n\u001b[0m\u001b[1;32m    625\u001b[0m         \u001b[0;32mreturn\u001b[0m \u001b[0mself\u001b[0m\u001b[0;34m.\u001b[0m\u001b[0mclasses_\u001b[0m\u001b[0;34m.\u001b[0m\u001b[0mtake\u001b[0m\u001b[0;34m(\u001b[0m\u001b[0mnp\u001b[0m\u001b[0;34m.\u001b[0m\u001b[0masarray\u001b[0m\u001b[0;34m(\u001b[0m\u001b[0my\u001b[0m\u001b[0;34m,\u001b[0m \u001b[0mdtype\u001b[0m\u001b[0;34m=\u001b[0m\u001b[0mnp\u001b[0m\u001b[0;34m.\u001b[0m\u001b[0mintp\u001b[0m\u001b[0;34m)\u001b[0m\u001b[0;34m)\u001b[0m\u001b[0;34m\u001b[0m\u001b[0;34m\u001b[0m\u001b[0m\n\u001b[1;32m    626\u001b[0m \u001b[0;34m\u001b[0m\u001b[0m\n",
      "\u001b[0;32m/opt/conda/lib/python3.7/site-packages/sklearn/svm/_base.py\u001b[0m in \u001b[0;36mpredict\u001b[0;34m(self, X)\u001b[0m\n\u001b[1;32m    342\u001b[0m         \u001b[0mX\u001b[0m \u001b[0;34m=\u001b[0m \u001b[0mself\u001b[0m\u001b[0;34m.\u001b[0m\u001b[0m_validate_for_predict\u001b[0m\u001b[0;34m(\u001b[0m\u001b[0mX\u001b[0m\u001b[0;34m)\u001b[0m\u001b[0;34m\u001b[0m\u001b[0;34m\u001b[0m\u001b[0m\n\u001b[1;32m    343\u001b[0m         \u001b[0mpredict\u001b[0m \u001b[0;34m=\u001b[0m \u001b[0mself\u001b[0m\u001b[0;34m.\u001b[0m\u001b[0m_sparse_predict\u001b[0m \u001b[0;32mif\u001b[0m \u001b[0mself\u001b[0m\u001b[0;34m.\u001b[0m\u001b[0m_sparse\u001b[0m \u001b[0;32melse\u001b[0m \u001b[0mself\u001b[0m\u001b[0;34m.\u001b[0m\u001b[0m_dense_predict\u001b[0m\u001b[0;34m\u001b[0m\u001b[0;34m\u001b[0m\u001b[0m\n\u001b[0;32m--> 344\u001b[0;31m         \u001b[0;32mreturn\u001b[0m \u001b[0mpredict\u001b[0m\u001b[0;34m(\u001b[0m\u001b[0mX\u001b[0m\u001b[0;34m)\u001b[0m\u001b[0;34m\u001b[0m\u001b[0;34m\u001b[0m\u001b[0m\n\u001b[0m\u001b[1;32m    345\u001b[0m \u001b[0;34m\u001b[0m\u001b[0m\n\u001b[1;32m    346\u001b[0m     \u001b[0;32mdef\u001b[0m \u001b[0m_dense_predict\u001b[0m\u001b[0;34m(\u001b[0m\u001b[0mself\u001b[0m\u001b[0;34m,\u001b[0m \u001b[0mX\u001b[0m\u001b[0;34m)\u001b[0m\u001b[0;34m:\u001b[0m\u001b[0;34m\u001b[0m\u001b[0;34m\u001b[0m\u001b[0m\n",
      "\u001b[0;32m/opt/conda/lib/python3.7/site-packages/sklearn/svm/_base.py\u001b[0m in \u001b[0;36m_dense_predict\u001b[0;34m(self, X)\u001b[0m\n\u001b[1;32m    364\u001b[0m             \u001b[0mself\u001b[0m\u001b[0;34m.\u001b[0m\u001b[0m_probA\u001b[0m\u001b[0;34m,\u001b[0m \u001b[0mself\u001b[0m\u001b[0;34m.\u001b[0m\u001b[0m_probB\u001b[0m\u001b[0;34m,\u001b[0m \u001b[0msvm_type\u001b[0m\u001b[0;34m=\u001b[0m\u001b[0msvm_type\u001b[0m\u001b[0;34m,\u001b[0m \u001b[0mkernel\u001b[0m\u001b[0;34m=\u001b[0m\u001b[0mkernel\u001b[0m\u001b[0;34m,\u001b[0m\u001b[0;34m\u001b[0m\u001b[0;34m\u001b[0m\u001b[0m\n\u001b[1;32m    365\u001b[0m             \u001b[0mdegree\u001b[0m\u001b[0;34m=\u001b[0m\u001b[0mself\u001b[0m\u001b[0;34m.\u001b[0m\u001b[0mdegree\u001b[0m\u001b[0;34m,\u001b[0m \u001b[0mcoef0\u001b[0m\u001b[0;34m=\u001b[0m\u001b[0mself\u001b[0m\u001b[0;34m.\u001b[0m\u001b[0mcoef0\u001b[0m\u001b[0;34m,\u001b[0m \u001b[0mgamma\u001b[0m\u001b[0;34m=\u001b[0m\u001b[0mself\u001b[0m\u001b[0;34m.\u001b[0m\u001b[0m_gamma\u001b[0m\u001b[0;34m,\u001b[0m\u001b[0;34m\u001b[0m\u001b[0;34m\u001b[0m\u001b[0m\n\u001b[0;32m--> 366\u001b[0;31m             cache_size=self.cache_size)\n\u001b[0m\u001b[1;32m    367\u001b[0m \u001b[0;34m\u001b[0m\u001b[0m\n\u001b[1;32m    368\u001b[0m     \u001b[0;32mdef\u001b[0m \u001b[0m_sparse_predict\u001b[0m\u001b[0;34m(\u001b[0m\u001b[0mself\u001b[0m\u001b[0;34m,\u001b[0m \u001b[0mX\u001b[0m\u001b[0;34m)\u001b[0m\u001b[0;34m:\u001b[0m\u001b[0;34m\u001b[0m\u001b[0;34m\u001b[0m\u001b[0m\n",
      "\u001b[0;31mKeyboardInterrupt\u001b[0m: "
     ]
    }
   ],
   "source": [
    "methods='plsi,lda1,lda2,bigram'.split(',')\n",
    "prop=[0.01,0.05,0.1,0.2,0.3,0.5]\n",
    "acclist=[]\n",
    "nmc=20\n",
    "for l in range(nmc):\n",
    "    acc=np.zeros((len(prop),len(methods)))\n",
    "    for j,p in enumerate(prop):\n",
    "        print(l,j)\n",
    "        for i,x in enumerate([res_plsa,res_lda1,res_lda2,res_bigram]):\n",
    "            X_train, X_test, y_train, y_test = train_test_split(x, np.array(labels1), test_size=1-p, random_state=l)\n",
    "            clf = svm.SVC(kernel='linear')\n",
    "            clf.fit(X_train, y_train)\n",
    "            clf_predictions = clf.predict(X_test)\n",
    "            acc[j,i]=clf.score(X_test, y_test)\n",
    "            #print(\"Accuracy of {}: {}%\".format(p,acc[j,i] * 100))\n",
    "    file = open(\"results/accuracy_1000/acc\"+str(l)+'_'+str(num_topics)+'topics', \"wb\")\n",
    "    #np.save(file, acclist)\n",
    "    np.save(file, acc)\n",
    "    file.close\n",
    "    acclist.append(acc)\n",
    "    print(acc)\n",
    "file = open(\"results/accuracy_1000acclist\"+str(l)+'_'+str(num_topics)+'topics', \"wb\")\n",
    "np.save(file, acclist)\n",
    "file.close"
   ]
  },
  {
   "cell_type": "code",
   "execution_count": 16,
   "id": "affected-wildlife",
   "metadata": {},
   "outputs": [],
   "source": [
    "# from functools import reduce\n",
    "# acclist=[np.load('acc'+str(l)) for l in range(50) if not l==25]\n",
    "# acclist1=[acc for acc in acclist if not acc.shape==(0,)]\n",
    "# acc_avg=np.array(reduce(lambda x,y:x+y, acclist1))/len(acclist1)\n",
    "# file = open(\"acc_avg\", \"wb\")\n",
    "# np.save(file, acc_avg)\n",
    "# file.close"
   ]
  },
  {
   "cell_type": "code",
   "execution_count": 17,
   "id": "blank-soldier",
   "metadata": {},
   "outputs": [],
   "source": [
    "nmc=19\n",
    "acclist=[]\n",
    "for i in range(nmc):\n",
    "    file = open(\"results/accuracy_1000/acc\"+str(i)+'_'+'5topics', \"rb\")\n",
    "    acc_i=np.load(file)\n",
    "    file.close\n",
    "    acclist.append(acc_i)"
   ]
  },
  {
   "cell_type": "code",
   "execution_count": 18,
   "id": "practical-highway",
   "metadata": {},
   "outputs": [],
   "source": [
    "acc_all=np.array(acclist)\n",
    "acc_avg=np.mean(acc_all,axis=0)\n",
    "acc_sd=np.std(acc_all,axis=0)"
   ]
  },
  {
   "cell_type": "code",
   "execution_count": 29,
   "id": "protective-reggae",
   "metadata": {},
   "outputs": [],
   "source": [
    "import pandas as pd\n",
    "df_avg=pd.DataFrame(acc_avg,columns=methods)\n",
    "df_avg['proportion of training data']=prop\n",
    "df_sd=pd.DataFrame(acc_sd,columns=methods)\n",
    "df_sd['proportion of training data']=prop\n",
    "avg=df_avg.melt(id_vars='proportion of training data')\n",
    "avg.columns=['proportion of training data','model','avg']\n",
    "sd=df_sd.melt(id_vars='proportion of training data')\n",
    "sd.columns=['prop','variable','sd']\n",
    "df=pd.concat([avg,sd],axis=1)"
   ]
  },
  {
   "cell_type": "code",
   "execution_count": 30,
   "id": "encouraging-mongolia",
   "metadata": {},
   "outputs": [],
   "source": [
    "import matplotlib.pyplot as plt"
   ]
  },
  {
   "cell_type": "code",
   "execution_count": 33,
   "id": "unlikely-glance",
   "metadata": {},
   "outputs": [
    {
     "data": {
      "image/png": "[encoded data removed]",
      "text/plain": [
       "<Figure size 432x288 with 1 Axes>"
      ]
     },
     "metadata": {
      "needs_background": "light"
     },
     "output_type": "display_data"
    }
   ],
   "source": [
    "# Subplots as having two types of quality\n",
    "fig, ax = plt.subplots()\n",
    "\n",
    "for key, group in df.groupby('model'):\n",
    "    group.plot('proportion of training data', 'avg', yerr='sd',\n",
    "        label=key, ax=ax)\n",
    "plt.ylabel('accuracy')\n",
    "plt.savefig('figures/accuracy.png', dpi = 1000)\n",
    "pass"
   ]
  },
  {
   "cell_type": "code",
   "execution_count": 34,
   "id": "ordered-bridal",
   "metadata": {},
   "outputs": [
    {
     "data": {
      "text/html": [
       "<div>\n",
       "<style scoped>\n",
       "    .dataframe tbody tr th:only-of-type {\n",
       "        vertical-align: middle;\n",
       "    }\n",
       "\n",
       "    .dataframe tbody tr th {\n",
       "        vertical-align: top;\n",
       "    }\n",
       "\n",
       "    .dataframe thead th {\n",
       "        text-align: right;\n",
       "    }\n",
       "</style>\n",
       "<table border=\"1\" class=\"dataframe\">\n",
       "  <thead>\n",
       "    <tr style=\"text-align: right;\">\n",
       "      <th></th>\n",
       "      <th>proportion of training data</th>\n",
       "      <th>model</th>\n",
       "      <th>avg</th>\n",
       "      <th>prop</th>\n",
       "      <th>variable</th>\n",
       "      <th>sd</th>\n",
       "    </tr>\n",
       "  </thead>\n",
       "  <tbody>\n",
       "    <tr>\n",
       "      <th>0</th>\n",
       "      <td>0.01</td>\n",
       "      <td>plsi</td>\n",
       "      <td>0.687081</td>\n",
       "      <td>0.01</td>\n",
       "      <td>plsi</td>\n",
       "      <td>0.082790</td>\n",
       "    </tr>\n",
       "    <tr>\n",
       "      <th>1</th>\n",
       "      <td>0.05</td>\n",
       "      <td>plsi</td>\n",
       "      <td>0.750083</td>\n",
       "      <td>0.05</td>\n",
       "      <td>plsi</td>\n",
       "      <td>0.023319</td>\n",
       "    </tr>\n",
       "    <tr>\n",
       "      <th>2</th>\n",
       "      <td>0.10</td>\n",
       "      <td>plsi</td>\n",
       "      <td>0.762690</td>\n",
       "      <td>0.10</td>\n",
       "      <td>plsi</td>\n",
       "      <td>0.017950</td>\n",
       "    </tr>\n",
       "    <tr>\n",
       "      <th>3</th>\n",
       "      <td>0.20</td>\n",
       "      <td>plsi</td>\n",
       "      <td>0.762434</td>\n",
       "      <td>0.20</td>\n",
       "      <td>plsi</td>\n",
       "      <td>0.011792</td>\n",
       "    </tr>\n",
       "    <tr>\n",
       "      <th>4</th>\n",
       "      <td>0.30</td>\n",
       "      <td>plsi</td>\n",
       "      <td>0.760977</td>\n",
       "      <td>0.30</td>\n",
       "      <td>plsi</td>\n",
       "      <td>0.010323</td>\n",
       "    </tr>\n",
       "    <tr>\n",
       "      <th>5</th>\n",
       "      <td>0.50</td>\n",
       "      <td>plsi</td>\n",
       "      <td>0.761263</td>\n",
       "      <td>0.50</td>\n",
       "      <td>plsi</td>\n",
       "      <td>0.013030</td>\n",
       "    </tr>\n",
       "    <tr>\n",
       "      <th>6</th>\n",
       "      <td>0.01</td>\n",
       "      <td>lda1</td>\n",
       "      <td>0.803668</td>\n",
       "      <td>0.01</td>\n",
       "      <td>lda1</td>\n",
       "      <td>0.118320</td>\n",
       "    </tr>\n",
       "    <tr>\n",
       "      <th>7</th>\n",
       "      <td>0.05</td>\n",
       "      <td>lda1</td>\n",
       "      <td>0.877729</td>\n",
       "      <td>0.05</td>\n",
       "      <td>lda1</td>\n",
       "      <td>0.023612</td>\n",
       "    </tr>\n",
       "    <tr>\n",
       "      <th>8</th>\n",
       "      <td>0.10</td>\n",
       "      <td>lda1</td>\n",
       "      <td>0.895789</td>\n",
       "      <td>0.10</td>\n",
       "      <td>lda1</td>\n",
       "      <td>0.008451</td>\n",
       "    </tr>\n",
       "    <tr>\n",
       "      <th>9</th>\n",
       "      <td>0.20</td>\n",
       "      <td>lda1</td>\n",
       "      <td>0.899013</td>\n",
       "      <td>0.20</td>\n",
       "      <td>lda1</td>\n",
       "      <td>0.004943</td>\n",
       "    </tr>\n",
       "    <tr>\n",
       "      <th>10</th>\n",
       "      <td>0.30</td>\n",
       "      <td>lda1</td>\n",
       "      <td>0.899323</td>\n",
       "      <td>0.30</td>\n",
       "      <td>lda1</td>\n",
       "      <td>0.005272</td>\n",
       "    </tr>\n",
       "    <tr>\n",
       "      <th>11</th>\n",
       "      <td>0.50</td>\n",
       "      <td>lda1</td>\n",
       "      <td>0.899474</td>\n",
       "      <td>0.50</td>\n",
       "      <td>lda1</td>\n",
       "      <td>0.007479</td>\n",
       "    </tr>\n",
       "    <tr>\n",
       "      <th>12</th>\n",
       "      <td>0.01</td>\n",
       "      <td>lda2</td>\n",
       "      <td>0.627592</td>\n",
       "      <td>0.01</td>\n",
       "      <td>lda2</td>\n",
       "      <td>0.095060</td>\n",
       "    </tr>\n",
       "    <tr>\n",
       "      <th>13</th>\n",
       "      <td>0.05</td>\n",
       "      <td>lda2</td>\n",
       "      <td>0.696454</td>\n",
       "      <td>0.05</td>\n",
       "      <td>lda2</td>\n",
       "      <td>0.048283</td>\n",
       "    </tr>\n",
       "    <tr>\n",
       "      <th>14</th>\n",
       "      <td>0.10</td>\n",
       "      <td>lda2</td>\n",
       "      <td>0.720058</td>\n",
       "      <td>0.10</td>\n",
       "      <td>lda2</td>\n",
       "      <td>0.028200</td>\n",
       "    </tr>\n",
       "    <tr>\n",
       "      <th>15</th>\n",
       "      <td>0.20</td>\n",
       "      <td>lda2</td>\n",
       "      <td>0.718421</td>\n",
       "      <td>0.20</td>\n",
       "      <td>lda2</td>\n",
       "      <td>0.044035</td>\n",
       "    </tr>\n",
       "    <tr>\n",
       "      <th>16</th>\n",
       "      <td>0.30</td>\n",
       "      <td>lda2</td>\n",
       "      <td>0.732632</td>\n",
       "      <td>0.30</td>\n",
       "      <td>lda2</td>\n",
       "      <td>0.015957</td>\n",
       "    </tr>\n",
       "    <tr>\n",
       "      <th>17</th>\n",
       "      <td>0.50</td>\n",
       "      <td>lda2</td>\n",
       "      <td>0.737895</td>\n",
       "      <td>0.50</td>\n",
       "      <td>lda2</td>\n",
       "      <td>0.019067</td>\n",
       "    </tr>\n",
       "    <tr>\n",
       "      <th>18</th>\n",
       "      <td>0.01</td>\n",
       "      <td>bigram</td>\n",
       "      <td>0.718607</td>\n",
       "      <td>0.01</td>\n",
       "      <td>bigram</td>\n",
       "      <td>0.094765</td>\n",
       "    </tr>\n",
       "    <tr>\n",
       "      <th>19</th>\n",
       "      <td>0.05</td>\n",
       "      <td>bigram</td>\n",
       "      <td>0.882382</td>\n",
       "      <td>0.05</td>\n",
       "      <td>bigram</td>\n",
       "      <td>0.029348</td>\n",
       "    </tr>\n",
       "    <tr>\n",
       "      <th>20</th>\n",
       "      <td>0.10</td>\n",
       "      <td>bigram</td>\n",
       "      <td>0.915965</td>\n",
       "      <td>0.10</td>\n",
       "      <td>bigram</td>\n",
       "      <td>0.017771</td>\n",
       "    </tr>\n",
       "    <tr>\n",
       "      <th>21</th>\n",
       "      <td>0.20</td>\n",
       "      <td>bigram</td>\n",
       "      <td>0.940329</td>\n",
       "      <td>0.20</td>\n",
       "      <td>bigram</td>\n",
       "      <td>0.010226</td>\n",
       "    </tr>\n",
       "    <tr>\n",
       "      <th>22</th>\n",
       "      <td>0.30</td>\n",
       "      <td>bigram</td>\n",
       "      <td>0.949398</td>\n",
       "      <td>0.30</td>\n",
       "      <td>bigram</td>\n",
       "      <td>0.007155</td>\n",
       "    </tr>\n",
       "    <tr>\n",
       "      <th>23</th>\n",
       "      <td>0.50</td>\n",
       "      <td>bigram</td>\n",
       "      <td>0.960211</td>\n",
       "      <td>0.50</td>\n",
       "      <td>bigram</td>\n",
       "      <td>0.006049</td>\n",
       "    </tr>\n",
       "  </tbody>\n",
       "</table>\n",
       "</div>"
      ],
      "text/plain": [
       "    proportion of training data   model       avg  prop variable        sd\n",
       "0                          0.01    plsi  0.687081  0.01     plsi  0.082790\n",
       "1                          0.05    plsi  0.750083  0.05     plsi  0.023319\n",
       "2                          0.10    plsi  0.762690  0.10     plsi  0.017950\n",
       "3                          0.20    plsi  0.762434  0.20     plsi  0.011792\n",
       "4                          0.30    plsi  0.760977  0.30     plsi  0.010323\n",
       "5                          0.50    plsi  0.761263  0.50     plsi  0.013030\n",
       "6                          0.01    lda1  0.803668  0.01     lda1  0.118320\n",
       "7                          0.05    lda1  0.877729  0.05     lda1  0.023612\n",
       "8                          0.10    lda1  0.895789  0.10     lda1  0.008451\n",
       "9                          0.20    lda1  0.899013  0.20     lda1  0.004943\n",
       "10                         0.30    lda1  0.899323  0.30     lda1  0.005272\n",
       "11                         0.50    lda1  0.899474  0.50     lda1  0.007479\n",
       "12                         0.01    lda2  0.627592  0.01     lda2  0.095060\n",
       "13                         0.05    lda2  0.696454  0.05     lda2  0.048283\n",
       "14                         0.10    lda2  0.720058  0.10     lda2  0.028200\n",
       "15                         0.20    lda2  0.718421  0.20     lda2  0.044035\n",
       "16                         0.30    lda2  0.732632  0.30     lda2  0.015957\n",
       "17                         0.50    lda2  0.737895  0.50     lda2  0.019067\n",
       "18                         0.01  bigram  0.718607  0.01   bigram  0.094765\n",
       "19                         0.05  bigram  0.882382  0.05   bigram  0.029348\n",
       "20                         0.10  bigram  0.915965  0.10   bigram  0.017771\n",
       "21                         0.20  bigram  0.940329  0.20   bigram  0.010226\n",
       "22                         0.30  bigram  0.949398  0.30   bigram  0.007155\n",
       "23                         0.50  bigram  0.960211  0.50   bigram  0.006049"
      ]
     },
     "execution_count": 34,
     "metadata": {},
     "output_type": "execute_result"
    }
   ],
   "source": [
    "df"
   ]
  },
  {
   "cell_type": "code",
   "execution_count": null,
   "id": "considered-faculty",
   "metadata": {},
   "outputs": [],
   "source": []
  }
 ],
 "metadata": {
  "kernelspec": {
   "display_name": "Python 3",
   "language": "python",
   "name": "python3"
  },
  "language_info": {
   "codemirror_mode": {
    "name": "ipython",
    "version": 3
   },
   "file_extension": ".py",
   "mimetype": "text/x-python",
   "name": "python",
   "nbconvert_exporter": "python",
   "pygments_lexer": "ipython3",
   "version": "3.7.9"
  }
 },
 "nbformat": 4,
 "nbformat_minor": 5
}
